{
 "metadata": {
  "name": "",
  "signature": "sha256:589ae73d65a8b77306abdc88aaf73965b729565570cd38d0f75987bc4278918a"
 },
 "nbformat": 3,
 "nbformat_minor": 0,
 "worksheets": [
  {
   "cells": [
    {
     "cell_type": "markdown",
     "metadata": {},
     "source": [
      "#Tips for Common Problems\n",
      "\n",
      "PS 452: Text as Data\n",
      "\n",
      "Fall 2014\n",
      "\n",
      "Department of Political Science, Stanford University\n",
      "\n",
      "Created by **Frances Zlotnick**\n",
      "\n",
      "Please contact me at zlotnick@stanford.edu with questions or comments."
     ]
    },
    {
     "cell_type": "markdown",
     "metadata": {},
     "source": [
      "This document provides some  tips based on common python problems observed in the problem sets. It covers the following topics:\n",
      "\n",
      "1.   [Iterating over collections and ranges of numbers](#iterators)\n",
      "   \n",
      "2.   [Casting and concatenating strings](#strings)\n",
      "   \n",
      "3.   [Shallow copying of mutable objects](#shallow)\n",
      "  \n",
      "4.  [Inserting vs. appending to lists](#inserting)\n",
      "    "
     ]
    },
    {
     "cell_type": "markdown",
     "metadata": {},
     "source": [
      "<a id = \"iterators\"></a>\n",
      "\n",
      "##Iterators\n",
      "\n",
      "One of the great benefits of using python is the functionality provided by its built-in iterators. Iterating over collections is very simple in python, but sufficiently different from `R` that it can cause confusion for new python users.\n",
      "\n",
      "Python collections can be easily iterated over using the simple `for` syntax. `R` users often iterate over vector or dataframe indexes by writing `for` loops that iterate through the range of numbers corresponding to the dimensions of a collection. Python allows you to iterate directly over the objects without indexing the locations, which is particularly valuable when dealing with unordered (and thus un-indexible) collections. All collections have built-in iterators that behave somewhat differently. The `list` iterator is most straight-forward and iterates over each element in the list in order."
     ]
    },
    {
     "cell_type": "code",
     "collapsed": false,
     "input": [
      "random_cities = [\"San Francisco\", \"Stockholm\", \"Cleveland\", \"Washington, D.C.\", \"Warsaw\"]\n",
      "\n",
      "for i in random_cities:\n",
      "    print i"
     ],
     "language": "python",
     "metadata": {},
     "outputs": [
      {
       "output_type": "stream",
       "stream": "stdout",
       "text": [
        "San Francisco\n",
        "Stockholm\n",
        "Cleveland\n",
        "Washington, D.C.\n",
        "Warsaw\n"
       ]
      }
     ],
     "prompt_number": 1
    },
    {
     "cell_type": "markdown",
     "metadata": {},
     "source": [
      "Iterating over `tuples` is very similar."
     ]
    },
    {
     "cell_type": "code",
     "collapsed": false,
     "input": [
      "tup = (\"This\", \"is\", \"my\", \"silly\", \"tuple.\")\n",
      "for i in tup:\n",
      "    print i"
     ],
     "language": "python",
     "metadata": {},
     "outputs": [
      {
       "output_type": "stream",
       "stream": "stdout",
       "text": [
        "This\n",
        "is\n",
        "my\n",
        "silly\n",
        "tuple.\n"
       ]
      }
     ],
     "prompt_number": 2
    },
    {
     "cell_type": "markdown",
     "metadata": {},
     "source": [
      "By default, the `dict` iterator iterates over the keys in a dictionary only. The order of the elements reurned is arbitrary and does not refect the actual ordering of the data. You should not rely on this ordering for other operations. "
     ]
    },
    {
     "cell_type": "code",
     "collapsed": false,
     "input": [
      "capitals = {\n",
      "    \"United States\": \"Washington, D.C.\",\n",
      "    \"Sweden\": \"Stockholm\",\n",
      "    \"California\": \"Sacramento\",\n",
      "    \"Poland\": \"Warsaw\",\n",
      "    \"Ohio\": \"Columbus\"\n",
      "}\n",
      "\n",
      "for i in capitals:\n",
      "    print i"
     ],
     "language": "python",
     "metadata": {},
     "outputs": [
      {
       "output_type": "stream",
       "stream": "stdout",
       "text": [
        "United States\n",
        "Ohio\n",
        "Sweden\n",
        "California\n",
        "Poland\n"
       ]
      }
     ],
     "prompt_number": 3
    },
    {
     "cell_type": "markdown",
     "metadata": {},
     "source": [
      "You can also easily iterate over the values, or both keys and values, with slight modifications."
     ]
    },
    {
     "cell_type": "code",
     "collapsed": false,
     "input": [
      "for i in capitals.values():\n",
      "    print i"
     ],
     "language": "python",
     "metadata": {},
     "outputs": [
      {
       "output_type": "stream",
       "stream": "stdout",
       "text": [
        "Washington, D.C.\n",
        "Columbus\n",
        "Stockholm\n",
        "Sacramento\n",
        "Warsaw\n"
       ]
      }
     ],
     "prompt_number": 4
    },
    {
     "cell_type": "code",
     "collapsed": false,
     "input": [
      "for k, v in capitals.items():\n",
      "    print k, v"
     ],
     "language": "python",
     "metadata": {},
     "outputs": [
      {
       "output_type": "stream",
       "stream": "stdout",
       "text": [
        "United States Washington, D.C.\n",
        "Ohio Columbus\n",
        "Sweden Stockholm\n",
        "California Sacramento\n",
        "Poland Warsaw\n"
       ]
      }
     ],
     "prompt_number": 5
    },
    {
     "cell_type": "markdown",
     "metadata": {},
     "source": [
      "You can even iterate over all of the characters in a `string` using the same syntax!"
     ]
    },
    {
     "cell_type": "code",
     "collapsed": false,
     "input": [
      "string = \"my string\"\n",
      "\n",
      "for i in string:\n",
      "    print i.upper()"
     ],
     "language": "python",
     "metadata": {},
     "outputs": [
      {
       "output_type": "stream",
       "stream": "stdout",
       "text": [
        "M\n",
        "Y\n",
        " \n",
        "S\n",
        "T\n",
        "R\n",
        "I\n",
        "N\n",
        "G\n"
       ]
      }
     ],
     "prompt_number": 6
    },
    {
     "cell_type": "markdown",
     "metadata": {},
     "source": [
      "If you do need to iterate over a range of numbers, remember that python is zero indexed and that the stop value in `range` is non-inclusive. To successively acces every element in a collection, you should iterate over all of the numbers from 0 to the length of the collection. Note that if you use this method you are no longer iterating over the elements directly, so you need to explicilty index the collection in order to process an element on each loop."
     ]
    },
    {
     "cell_type": "code",
     "collapsed": false,
     "input": [
      "test = [\"This\", \"is\", \"a\", \"complete\", \"sentence.\"]\n",
      "\n",
      "for i in range(0, len(test)):\n",
      "    print test[i]"
     ],
     "language": "python",
     "metadata": {},
     "outputs": [
      {
       "output_type": "stream",
       "stream": "stdout",
       "text": [
        "This\n",
        "is\n",
        "a\n",
        "complete\n",
        "sentence.\n"
       ]
      }
     ],
     "prompt_number": 7
    },
    {
     "cell_type": "markdown",
     "metadata": {},
     "source": [
      "If you subtract one from the stop value, you will miss the last element."
     ]
    },
    {
     "cell_type": "code",
     "collapsed": false,
     "input": [
      "for i in range(0, len(test)-1):\n",
      "    print test[i]"
     ],
     "language": "python",
     "metadata": {},
     "outputs": [
      {
       "output_type": "stream",
       "stream": "stdout",
       "text": [
        "This\n",
        "is\n",
        "a\n",
        "complete\n"
       ]
      }
     ],
     "prompt_number": 8
    },
    {
     "cell_type": "markdown",
     "metadata": {},
     "source": [
      "<a id = \"strings\"></a>\n",
      "\n",
      "## Casting to and concatenating strings\n",
      "\n",
      "When casting objects into `string` type, be certain to cast the elements themselves and not the collection holding them. Casting a collection will result in unexpected additions to your text. "
     ]
    },
    {
     "cell_type": "code",
     "collapsed": false,
     "input": [
      "nums = range(1,11)\n",
      "wrong = str(nums)\n",
      "wrong"
     ],
     "language": "python",
     "metadata": {},
     "outputs": [
      {
       "metadata": {},
       "output_type": "pyout",
       "prompt_number": 9,
       "text": [
        "'[1, 2, 3, 4, 5, 6, 7, 8, 9, 10]'"
       ]
      }
     ],
     "prompt_number": 9
    },
    {
     "cell_type": "code",
     "collapsed": false,
     "input": [
      "wrong[0:3]"
     ],
     "language": "python",
     "metadata": {},
     "outputs": [
      {
       "metadata": {},
       "output_type": "pyout",
       "prompt_number": 10,
       "text": [
        "'[1,'"
       ]
      }
     ],
     "prompt_number": 10
    },
    {
     "cell_type": "markdown",
     "metadata": {},
     "source": [
      "Casting the entire collection to a `string` adds all of the structural information from the `list` data structure into the text. The square brackets denoting the `list` type,  and the commas separating elements have all been added into the data. You would then need to do a bunch of extra processing to strip out these additions, which would be difficult if you wanted to maintain the original punctuation marks in the data. \n",
      "\n",
      "This problem often occurs when you get data in the form of an unfamiliar data structure and try to turn it into something familiar by casting it to a string. \n"
     ]
    },
    {
     "cell_type": "markdown",
     "metadata": {},
     "source": [
      "If you want to cast elements of a collection to another data type, you must cast each element individually, not the collection as a whole."
     ]
    },
    {
     "cell_type": "code",
     "collapsed": false,
     "input": [
      "right = [str(x) for x in nums]\n",
      "right"
     ],
     "language": "python",
     "metadata": {},
     "outputs": [
      {
       "metadata": {},
       "output_type": "pyout",
       "prompt_number": 11,
       "text": [
        "['1', '2', '3', '4', '5', '6', '7', '8', '9', '10']"
       ]
      }
     ],
     "prompt_number": 11
    },
    {
     "cell_type": "code",
     "collapsed": false,
     "input": [
      "right[0:3]"
     ],
     "language": "python",
     "metadata": {},
     "outputs": [
      {
       "metadata": {},
       "output_type": "pyout",
       "prompt_number": 12,
       "text": [
        "['1', '2', '3']"
       ]
      }
     ],
     "prompt_number": 12
    },
    {
     "cell_type": "markdown",
     "metadata": {},
     "source": [
      "If you want to concatenate a collection of strings, use the `join` function rather than casting the collection into a `string`. This function has unusual syntax: you first specify the separator you want between the elements, then call `join`, providing the collection of strings as an argument. Usually you want to separate the items with a space."
     ]
    },
    {
     "cell_type": "code",
     "collapsed": false,
     "input": [
      "\" \".join(test)"
     ],
     "language": "python",
     "metadata": {},
     "outputs": [
      {
       "metadata": {},
       "output_type": "pyout",
       "prompt_number": 13,
       "text": [
        "'This is a complete sentence.'"
       ]
      }
     ],
     "prompt_number": 13
    },
    {
     "cell_type": "markdown",
     "metadata": {},
     "source": [
      "You can specify any string object as a separator, however. "
     ]
    },
    {
     "cell_type": "code",
     "collapsed": false,
     "input": [
      "wrong.join(test)"
     ],
     "language": "python",
     "metadata": {},
     "outputs": [
      {
       "metadata": {},
       "output_type": "pyout",
       "prompt_number": 14,
       "text": [
        "'This[1, 2, 3, 4, 5, 6, 7, 8, 9, 10]is[1, 2, 3, 4, 5, 6, 7, 8, 9, 10]a[1, 2, 3, 4, 5, 6, 7, 8, 9, 10]complete[1, 2, 3, 4, 5, 6, 7, 8, 9, 10]sentence.'"
       ]
      }
     ],
     "prompt_number": 14
    },
    {
     "cell_type": "markdown",
     "metadata": {},
     "source": [
      "<a id = \"shallow\"></a>\n",
      "\n",
      "## Copying mutable objects\n",
      "\n",
      "Often you may want to copy an object so that you can manipulate it without destroying the original data. This is tricky when dealing with mutable objects because python, unlike `R`, makes a *shallow* copy of mutable objects.\n"
     ]
    },
    {
     "cell_type": "markdown",
     "metadata": {},
     "source": [
      "There are two ways to copy data. A deep copy produces a full and complete duplication of the object, while a shallow copy simply creates a *pointer* that points to the memory location of the object to be copied. This is more efficient than copying all of the values and taking up memory with duplicate information. However, it means that **there is only one set of data accessed by both references**."
     ]
    },
    {
     "cell_type": "code",
     "collapsed": false,
     "input": [
      "from IPython.display import Image\n",
      "Image(\"http://i.stack.imgur.com/hOPkR.png\")\n"
     ],
     "language": "python",
     "metadata": {},
     "outputs": [
      {
       "metadata": {},
       "output_type": "pyout",
       "png": "[encoded data removed]",
       "prompt_number": 15,
       "text": [
        "<IPython.core.display.Image at 0x103c04790>"
       ]
      }
     ],
     "prompt_number": 15
    },
    {
     "cell_type": "markdown",
     "metadata": {},
     "source": [
      "The diagram above illustrates the difference between a shallow copy and a deep copy of a linked list. The big implication of shallow copying is that *if you modify the object by calling either one of the references, the other reference will reflect those changes.*"
     ]
    },
    {
     "cell_type": "code",
     "collapsed": false,
     "input": [
      "word_list = [\"this\", \"is\", \"a\", \"list\", \"of\", \"words\"]\n",
      "copy = word_list\n",
      "copy"
     ],
     "language": "python",
     "metadata": {},
     "outputs": [
      {
       "metadata": {},
       "output_type": "pyout",
       "prompt_number": 16,
       "text": [
        "['this', 'is', 'a', 'list', 'of', 'words']"
       ]
      }
     ],
     "prompt_number": 16
    },
    {
     "cell_type": "code",
     "collapsed": false,
     "input": [
      "word_list.append(\"dude\")\n",
      "copy"
     ],
     "language": "python",
     "metadata": {},
     "outputs": [
      {
       "metadata": {},
       "output_type": "pyout",
       "prompt_number": 17,
       "text": [
        "['this', 'is', 'a', 'list', 'of', 'words', 'dude']"
       ]
      }
     ],
     "prompt_number": 17
    },
    {
     "cell_type": "code",
     "collapsed": false,
     "input": [
      "copy.remove(\"this\")\n",
      "word_list"
     ],
     "language": "python",
     "metadata": {},
     "outputs": [
      {
       "metadata": {},
       "output_type": "pyout",
       "prompt_number": 18,
       "text": [
        "['is', 'a', 'list', 'of', 'words', 'dude']"
       ]
      }
     ],
     "prompt_number": 18
    },
    {
     "cell_type": "code",
     "collapsed": false,
     "input": [
      "print capitals"
     ],
     "language": "python",
     "metadata": {},
     "outputs": [
      {
       "output_type": "stream",
       "stream": "stdout",
       "text": [
        "{'United States': 'Washington, D.C.', 'Ohio': 'Columbus', 'Sweden': 'Stockholm', 'California': 'Sacramento', 'Poland': 'Warsaw'}\n"
       ]
      }
     ],
     "prompt_number": 19
    },
    {
     "cell_type": "markdown",
     "metadata": {},
     "source": [
      "This behavior applies to all mutable objects, so it occurs with `dictionaries` as well."
     ]
    },
    {
     "cell_type": "code",
     "collapsed": false,
     "input": [
      "cap_copy = capitals\n",
      "cap_copy[\"Uzbekistan\"] = \"Tashkent\""
     ],
     "language": "python",
     "metadata": {},
     "outputs": [],
     "prompt_number": 20
    },
    {
     "cell_type": "code",
     "collapsed": false,
     "input": [
      "capitals"
     ],
     "language": "python",
     "metadata": {},
     "outputs": [
      {
       "metadata": {},
       "output_type": "pyout",
       "prompt_number": 21,
       "text": [
        "{'California': 'Sacramento',\n",
        " 'Ohio': 'Columbus',\n",
        " 'Poland': 'Warsaw',\n",
        " 'Sweden': 'Stockholm',\n",
        " 'United States': 'Washington, D.C.',\n",
        " 'Uzbekistan': 'Tashkent'}"
       ]
      }
     ],
     "prompt_number": 21
    },
    {
     "cell_type": "markdown",
     "metadata": {},
     "source": [
      "This behavior does not apply to immutable objects like `ints` or `strings`."
     ]
    },
    {
     "cell_type": "code",
     "collapsed": false,
     "input": [
      "a = 5\n",
      "b = a\n",
      "b"
     ],
     "language": "python",
     "metadata": {},
     "outputs": [
      {
       "metadata": {},
       "output_type": "pyout",
       "prompt_number": 22,
       "text": [
        "5"
       ]
      }
     ],
     "prompt_number": 22
    },
    {
     "cell_type": "code",
     "collapsed": false,
     "input": [
      "b = 3\n",
      "a"
     ],
     "language": "python",
     "metadata": {},
     "outputs": [
      {
       "metadata": {},
       "output_type": "pyout",
       "prompt_number": 23,
       "text": [
        "5"
       ]
      }
     ],
     "prompt_number": 23
    },
    {
     "cell_type": "code",
     "collapsed": false,
     "input": [
      "s = \"a string\"\n",
      "s_copy = s\n",
      "s_copy = s + \", man.\"\n",
      "s_copy"
     ],
     "language": "python",
     "metadata": {},
     "outputs": [
      {
       "metadata": {},
       "output_type": "pyout",
       "prompt_number": 24,
       "text": [
        "'a string, man.'"
       ]
      }
     ],
     "prompt_number": 24
    },
    {
     "cell_type": "code",
     "collapsed": false,
     "input": [
      "s"
     ],
     "language": "python",
     "metadata": {},
     "outputs": [
      {
       "metadata": {},
       "output_type": "pyout",
       "prompt_number": 25,
       "text": [
        "'a string'"
       ]
      }
     ],
     "prompt_number": 25
    },
    {
     "cell_type": "markdown",
     "metadata": {},
     "source": [
      "If you want to make a deep copy, use the copy module."
     ]
    },
    {
     "cell_type": "code",
     "collapsed": false,
     "input": [
      "from copy import deepcopy\n",
      "list_1 = [\"this\", \"is\", \"a\", \"test\"]\n",
      "list_2 = deepcopy(list_1)\n",
      "list_2.append(\"TEST!\")\n",
      "list_2\n"
     ],
     "language": "python",
     "metadata": {},
     "outputs": [
      {
       "metadata": {},
       "output_type": "pyout",
       "prompt_number": 26,
       "text": [
        "['this', 'is', 'a', 'test', 'TEST!']"
       ]
      }
     ],
     "prompt_number": 26
    },
    {
     "cell_type": "code",
     "collapsed": false,
     "input": [
      "list_1"
     ],
     "language": "python",
     "metadata": {},
     "outputs": [
      {
       "metadata": {},
       "output_type": "pyout",
       "prompt_number": 27,
       "text": [
        "['this', 'is', 'a', 'test']"
       ]
      }
     ],
     "prompt_number": 27
    },
    {
     "cell_type": "markdown",
     "metadata": {},
     "source": [
      "<a id = \"inserting\"></a>\n",
      "\n",
      "## Inserting vs. Appending to lists"
     ]
    },
    {
     "cell_type": "markdown",
     "metadata": {},
     "source": [
      "Whenever possible, you should append to `lists` rather than inserting elements. Inserting an element requires that every element after the insertion point be moved in memory to accomodate the new item. Inserting at index 0 is O(n), since it requires moving all n elements in your `list`. Appending is in general O(1), because it does not require moving any existing elements, simply adding one after the last item.^ This is the same as the difference between searching over unhashed and hashed objects!\n",
      "\n",
      "\n",
      "\n",
      "^This is not always true; if your list grows to the point where the allocated memory is no longer sufficient to hold it, python will copy it into a new location with more available memory, which diminishes the efficiency. This occurs whether the length grows through appending or inserting."
     ]
    },
    {
     "cell_type": "code",
     "collapsed": false,
     "input": [
      "number_list = range(1, 10000)"
     ],
     "language": "python",
     "metadata": {},
     "outputs": [],
     "prompt_number": 28
    },
    {
     "cell_type": "code",
     "collapsed": false,
     "input": [
      "%%timeit\n",
      "\n",
      "number_list.insert(0, 500)"
     ],
     "language": "python",
     "metadata": {},
     "outputs": [
      {
       "output_type": "stream",
       "stream": "stdout",
       "text": [
        "100000 loops, best of 3: 160 \u00b5s per loop\n"
       ]
      }
     ],
     "prompt_number": 29
    },
    {
     "cell_type": "code",
     "collapsed": false,
     "input": [
      "%%timeit\n",
      "number_list.append(500)"
     ],
     "language": "python",
     "metadata": {},
     "outputs": [
      {
       "output_type": "stream",
       "stream": "stdout",
       "text": [
        "10000000 loops, best of 3: 167 ns per loop\n"
       ]
      }
     ],
     "prompt_number": 30
    },
    {
     "cell_type": "markdown",
     "metadata": {},
     "source": [
      "There are 1,000 nanoseconds in each microsecond, so appending is around 1000 times faster than inserting, in this example.\n",
      "\n",
      "The lesson here is that you should add elements to lists in the order you want them to occur, whenever possible. Sometimes you will need to `insert` items, but if it isn't necessary, you should avoid it in favor of `append`."
     ]
    }
   ],
   "metadata": {}
  }
 ]
}