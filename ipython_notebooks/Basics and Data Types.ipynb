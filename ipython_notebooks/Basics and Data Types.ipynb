{
 "metadata": {
  "name": "",
  "signature": "sha256:dbcce61d9c02244e7e947e6eb786f9a4b1780080f36b97ad201ac2b3cb664129"
 },
 "nbformat": 3,
 "nbformat_minor": 0,
 "worksheets": [
  {
   "cells": [
    {
     "cell_type": "markdown",
     "metadata": {},
     "source": [
      "# Basics and Data Types\n",
      "\n",
      "PS 452: Text as Data\n",
      "\n",
      "Fall 2014\n",
      "\n",
      "Department of Political Science, Stanford University\n",
      "\n",
      "Created by **Frances Zlotnick**\n",
      "\n",
      "Please contact me at zlotnick@stanford.edu with questions or comments."
     ]
    },
    {
     "cell_type": "markdown",
     "metadata": {},
     "source": [
      "This document provides some tips for getting started with python and using the basic data types. It assumes you have a working knowledge of R, but no other programming experience. \n",
      "\n",
      "It covers\n",
      "\n",
      "- Whitespace\n",
      "- 0-indexing\n",
      "- Ints vs Floats\n",
      "- Booleans\n",
      "- Strings"
     ]
    },
    {
     "cell_type": "markdown",
     "metadata": {},
     "source": [
      "##Whitespace\n",
      "\n",
      "In python, whitespace matters. R uses brackets to describe structure, while python uses whitespace. This makes the python easy to read, but if you are copying and pasting from other programs that don't handle spacing consistently, you may run into trouble. "
     ]
    },
    {
     "cell_type": "code",
     "collapsed": false,
     "input": [
      "for x in range(0,10):\n",
      "print x"
     ],
     "language": "python",
     "metadata": {},
     "outputs": [
      {
       "ename": "IndentationError",
       "evalue": "expected an indented block (<ipython-input-1-40ea9d8e6261>, line 2)",
       "output_type": "pyerr",
       "traceback": [
        "\u001b[0;36m  File \u001b[0;32m\"<ipython-input-1-40ea9d8e6261>\"\u001b[0;36m, line \u001b[0;32m2\u001b[0m\n\u001b[0;31m    print x\u001b[0m\n\u001b[0m        ^\u001b[0m\n\u001b[0;31mIndentationError\u001b[0m\u001b[0;31m:\u001b[0m expected an indented block\n"
       ]
      }
     ],
     "prompt_number": 1
    },
    {
     "cell_type": "code",
     "collapsed": false,
     "input": [
      "for x in range(0,10):\n",
      "    print x"
     ],
     "language": "python",
     "metadata": {},
     "outputs": [
      {
       "output_type": "stream",
       "stream": "stdout",
       "text": [
        "0\n",
        "1\n",
        "2\n",
        "3\n",
        "4\n",
        "5\n",
        "6\n",
        "7\n",
        "8\n",
        "9\n"
       ]
      }
     ],
     "prompt_number": 2
    },
    {
     "cell_type": "markdown",
     "metadata": {},
     "source": [
      "##Zero-indexing"
     ]
    },
    {
     "cell_type": "markdown",
     "metadata": {},
     "source": [
      "Python, like most programming languages, is 0-indexed. That means that the first element in any indexible data type is the 0th element. Indexing element 1 will get you the second element in an object. So remember to start your loops from 0!"
     ]
    },
    {
     "cell_type": "code",
     "collapsed": false,
     "input": [
      "mylist = [\"hello\", \"this\", \"is\", \"a\", \"list\", \"of\", \"strings\"]\n",
      "\n",
      "print mylist[0]\n",
      "print mylist[1]"
     ],
     "language": "python",
     "metadata": {},
     "outputs": [
      {
       "output_type": "stream",
       "stream": "stdout",
       "text": [
        "hello\n",
        "this\n"
       ]
      }
     ],
     "prompt_number": 3
    },
    {
     "cell_type": "markdown",
     "metadata": {},
     "source": [
      "## Data Types\n",
      "### Numeric Types"
     ]
    },
    {
     "cell_type": "markdown",
     "metadata": {},
     "source": [
      "There are four numeric data types in python, but we will only regularly encounter two: `ints` and `float`s. `int`s are whole numeric values; `float`s are floating point numbers, or values with decimals. This sounds like a trivial difference, but it's not. "
     ]
    },
    {
     "cell_type": "code",
     "collapsed": false,
     "input": [
      "x = 5\n",
      "y = 3\n",
      "x / y"
     ],
     "language": "python",
     "metadata": {},
     "outputs": [
      {
       "metadata": {},
       "output_type": "pyout",
       "prompt_number": 4,
       "text": [
        "1"
       ]
      }
     ],
     "prompt_number": 4
    },
    {
     "cell_type": "markdown",
     "metadata": {},
     "source": [
      "In most programming languages, including python versions before 3.0, dividing two `int`s will yield an `int`, but since `int`s can only be whole numbers, any remainder is truncated. The effect is that integer division will give the answer rounded down to the nearest whole number. You can avoid this by casting at least one of the inputs to a `float`."
     ]
    },
    {
     "cell_type": "code",
     "collapsed": false,
     "input": [
      "float(x) / y"
     ],
     "language": "python",
     "metadata": {},
     "outputs": [
      {
       "metadata": {},
       "output_type": "pyout",
       "prompt_number": 5,
       "text": [
        "1.6666666666666667"
       ]
      }
     ],
     "prompt_number": 5
    },
    {
     "cell_type": "markdown",
     "metadata": {},
     "source": [
      "Any whole number value will be typed as an int by default, and any value with a decimal with automatically be typed as a float."
     ]
    },
    {
     "cell_type": "code",
     "collapsed": false,
     "input": [
      "print type(3)\n",
      "print type(3.0)"
     ],
     "language": "python",
     "metadata": {},
     "outputs": [
      {
       "output_type": "stream",
       "stream": "stdout",
       "text": [
        "<type 'int'>\n",
        "<type 'float'>\n"
       ]
      }
     ],
     "prompt_number": 6
    },
    {
     "cell_type": "markdown",
     "metadata": {},
     "source": [
      "If your code isn't running or you are getting strange output, check that your data is typed appropriately with the `type` function. Compare that to the documentation for functions you are using; trying to apply a function to a data type it does not accept is one of the most common sources of problems."
     ]
    },
    {
     "cell_type": "code",
     "collapsed": false,
     "input": [
      "type(x)"
     ],
     "language": "python",
     "metadata": {},
     "outputs": [
      {
       "metadata": {},
       "output_type": "pyout",
       "prompt_number": 7,
       "text": [
        "int"
       ]
      }
     ],
     "prompt_number": 7
    },
    {
     "cell_type": "markdown",
     "metadata": {},
     "source": [
      "It's easy enough to cast variables of one type into another, but remember to save your new version if you want the change to persist."
     ]
    },
    {
     "cell_type": "code",
     "collapsed": false,
     "input": [
      "x = float(x)\n",
      "type(x)"
     ],
     "language": "python",
     "metadata": {},
     "outputs": [
      {
       "metadata": {},
       "output_type": "pyout",
       "prompt_number": 8,
       "text": [
        "float"
       ]
      }
     ],
     "prompt_number": 8
    },
    {
     "cell_type": "markdown",
     "metadata": {},
     "source": [
      "Most of the basic arithmetic operations from R work similarly in python. The main differences are integer division, and the notation for exponentiation."
     ]
    },
    {
     "cell_type": "code",
     "collapsed": false,
     "input": [
      "print 5 + 2\n",
      "print 5 - 2\n",
      "print 5 * 2\n",
      "print 5 / float(2)   #remember: integer division!\n",
      "print 5 % 2          #mod operator, returns the remainder of a division operation\n",
      "print 5**2           #expontiation"
     ],
     "language": "python",
     "metadata": {},
     "outputs": [
      {
       "output_type": "stream",
       "stream": "stdout",
       "text": [
        "7\n",
        "3\n",
        "10\n",
        "2.5\n",
        "1\n",
        "25\n"
       ]
      }
     ],
     "prompt_number": 9
    },
    {
     "cell_type": "markdown",
     "metadata": {},
     "source": [
      "###Booleans\n",
      "\n",
      "Like R, python has `bool` values that take on values of True or False. These are useful in setting up conditional statements, where an operation is only performed if some condition is satisfied."
     ]
    },
    {
     "cell_type": "code",
     "collapsed": false,
     "input": [
      "mybool = True\n",
      "if (mybool == True):\n",
      "    print \"yes :D\"\n",
      "else: \n",
      "    print \"no :(\""
     ],
     "language": "python",
     "metadata": {},
     "outputs": [
      {
       "output_type": "stream",
       "stream": "stdout",
       "text": [
        "yes :D\n"
       ]
      }
     ],
     "prompt_number": 10
    },
    {
     "cell_type": "markdown",
     "metadata": {},
     "source": [
      "`bools` have corresponding numeric values and can be used in integer operations. True = 1 and False = 0."
     ]
    },
    {
     "cell_type": "code",
     "collapsed": false,
     "input": [
      "mybool + 1 "
     ],
     "language": "python",
     "metadata": {},
     "outputs": [
      {
       "metadata": {},
       "output_type": "pyout",
       "prompt_number": 11,
       "text": [
        "2"
       ]
      }
     ],
     "prompt_number": 11
    },
    {
     "cell_type": "markdown",
     "metadata": {},
     "source": [
      "The equivalence and nonequivalence operators in python are the same as in R, but the conjunction and disjunction operators are simpler. Rather than use `&` for \"and\" and `|` for or, python simply uses the words."
     ]
    },
    {
     "cell_type": "code",
     "collapsed": false,
     "input": [
      "mybool == True"
     ],
     "language": "python",
     "metadata": {},
     "outputs": [
      {
       "metadata": {},
       "output_type": "pyout",
       "prompt_number": 12,
       "text": [
        "True"
       ]
      }
     ],
     "prompt_number": 12
    },
    {
     "cell_type": "code",
     "collapsed": false,
     "input": [
      "mybool != True  "
     ],
     "language": "python",
     "metadata": {},
     "outputs": [
      {
       "metadata": {},
       "output_type": "pyout",
       "prompt_number": 13,
       "text": [
        "False"
       ]
      }
     ],
     "prompt_number": 13
    },
    {
     "cell_type": "code",
     "collapsed": false,
     "input": [
      "mybool2 = True\n",
      "\n",
      "if mybool == True and mybool2 == True:\n",
      "    print \"yes!\"\n",
      "else: \n",
      "    print \"no.\""
     ],
     "language": "python",
     "metadata": {},
     "outputs": [
      {
       "output_type": "stream",
       "stream": "stdout",
       "text": [
        "yes!\n"
       ]
      }
     ],
     "prompt_number": 14
    },
    {
     "cell_type": "code",
     "collapsed": false,
     "input": [
      "if mybool == False or mybool2 == False:\n",
      "    print \"yes!\"\n",
      "else: \n",
      "    print \"no.\""
     ],
     "language": "python",
     "metadata": {},
     "outputs": [
      {
       "output_type": "stream",
       "stream": "stdout",
       "text": [
        "no.\n"
       ]
      }
     ],
     "prompt_number": 15
    },
    {
     "cell_type": "markdown",
     "metadata": {},
     "source": [
      "###Strings\n",
      "Strings are declared using either double or single quotation marks. "
     ]
    },
    {
     "cell_type": "code",
     "collapsed": false,
     "input": [
      "a = \"hello\"\n",
      "b = 'hello again'\n",
      "print type(a)\n",
      "print type(b)"
     ],
     "language": "python",
     "metadata": {},
     "outputs": [
      {
       "output_type": "stream",
       "stream": "stdout",
       "text": [
        "<type 'str'>\n",
        "<type 'str'>\n"
       ]
      }
     ],
     "prompt_number": 16
    },
    {
     "cell_type": "markdown",
     "metadata": {},
     "source": [
      "You can cast the contents of numeric variables to strings using `str`. Many functions, such as `write`, will only accept strings, so you will often need to do this type of casting on numeric variables. Note that you can't always tell whether something is a string just by looking at it."
     ]
    },
    {
     "cell_type": "code",
     "collapsed": false,
     "input": [
      "x = 500\n",
      "y = str(x)\n",
      "print x\n",
      "print y\n",
      "print type(x)\n",
      "print type(y)"
     ],
     "language": "python",
     "metadata": {},
     "outputs": [
      {
       "output_type": "stream",
       "stream": "stdout",
       "text": [
        "500\n",
        "500\n",
        "<type 'int'>\n",
        "<type 'str'>\n"
       ]
      }
     ],
     "prompt_number": 17
    },
    {
     "cell_type": "markdown",
     "metadata": {},
     "source": [
      "Python has many functions for doing common operations on strings. `dir` applied to an object will return a list of the functions that are available for that object. We'll go through just a few of these in this tutorial."
     ]
    },
    {
     "cell_type": "code",
     "collapsed": false,
     "input": [
      "dir(y)"
     ],
     "language": "python",
     "metadata": {},
     "outputs": [
      {
       "metadata": {},
       "output_type": "pyout",
       "prompt_number": 18,
       "text": [
        "['__add__',\n",
        " '__class__',\n",
        " '__contains__',\n",
        " '__delattr__',\n",
        " '__doc__',\n",
        " '__eq__',\n",
        " '__format__',\n",
        " '__ge__',\n",
        " '__getattribute__',\n",
        " '__getitem__',\n",
        " '__getnewargs__',\n",
        " '__getslice__',\n",
        " '__gt__',\n",
        " '__hash__',\n",
        " '__init__',\n",
        " '__le__',\n",
        " '__len__',\n",
        " '__lt__',\n",
        " '__mod__',\n",
        " '__mul__',\n",
        " '__ne__',\n",
        " '__new__',\n",
        " '__reduce__',\n",
        " '__reduce_ex__',\n",
        " '__repr__',\n",
        " '__rmod__',\n",
        " '__rmul__',\n",
        " '__setattr__',\n",
        " '__sizeof__',\n",
        " '__str__',\n",
        " '__subclasshook__',\n",
        " '_formatter_field_name_split',\n",
        " '_formatter_parser',\n",
        " 'capitalize',\n",
        " 'center',\n",
        " 'count',\n",
        " 'decode',\n",
        " 'encode',\n",
        " 'endswith',\n",
        " 'expandtabs',\n",
        " 'find',\n",
        " 'format',\n",
        " 'index',\n",
        " 'isalnum',\n",
        " 'isalpha',\n",
        " 'isdigit',\n",
        " 'islower',\n",
        " 'isspace',\n",
        " 'istitle',\n",
        " 'isupper',\n",
        " 'join',\n",
        " 'ljust',\n",
        " 'lower',\n",
        " 'lstrip',\n",
        " 'partition',\n",
        " 'replace',\n",
        " 'rfind',\n",
        " 'rindex',\n",
        " 'rjust',\n",
        " 'rpartition',\n",
        " 'rsplit',\n",
        " 'rstrip',\n",
        " 'split',\n",
        " 'splitlines',\n",
        " 'startswith',\n",
        " 'strip',\n",
        " 'swapcase',\n",
        " 'title',\n",
        " 'translate',\n",
        " 'upper',\n",
        " 'zfill']"
       ]
      }
     ],
     "prompt_number": 18
    },
    {
     "cell_type": "markdown",
     "metadata": {},
     "source": [
      "Strings are immutable: you cannot modify a string by applying a function to it. If you want the changes you make to persist, you must save the new string."
     ]
    },
    {
     "cell_type": "code",
     "collapsed": false,
     "input": [
      "fruit = \"apple\"\n",
      "print fruit.upper()\n",
      "print fruit"
     ],
     "language": "python",
     "metadata": {},
     "outputs": [
      {
       "output_type": "stream",
       "stream": "stdout",
       "text": [
        "APPLE\n",
        "apple\n"
       ]
      }
     ],
     "prompt_number": 19
    },
    {
     "cell_type": "code",
     "collapsed": false,
     "input": [
      "fruit = fruit.upper()\n",
      "print fruit"
     ],
     "language": "python",
     "metadata": {},
     "outputs": [
      {
       "output_type": "stream",
       "stream": "stdout",
       "text": [
        "APPLE\n"
       ]
      }
     ],
     "prompt_number": 20
    },
    {
     "cell_type": "markdown",
     "metadata": {},
     "source": [
      "Strings are indexible, which means you can do things like slice them, but remember that 0 indexing applies here as well."
     ]
    },
    {
     "cell_type": "code",
     "collapsed": false,
     "input": [
      "fruit[1]"
     ],
     "language": "python",
     "metadata": {},
     "outputs": [
      {
       "metadata": {},
       "output_type": "pyout",
       "prompt_number": 21,
       "text": [
        "'P'"
       ]
      }
     ],
     "prompt_number": 21
    },
    {
     "cell_type": "code",
     "collapsed": false,
     "input": [
      "fruit[0:3]"
     ],
     "language": "python",
     "metadata": {},
     "outputs": [
      {
       "metadata": {},
       "output_type": "pyout",
       "prompt_number": 22,
       "text": [
        "'APP'"
       ]
      }
     ],
     "prompt_number": 22
    },
    {
     "cell_type": "markdown",
     "metadata": {},
     "source": [
      "You can find the number of characters in a string by applying the `len` function. This will include whitespace and punctuation."
     ]
    },
    {
     "cell_type": "code",
     "collapsed": false,
     "input": [
      "len(fruit)"
     ],
     "language": "python",
     "metadata": {},
     "outputs": [
      {
       "metadata": {},
       "output_type": "pyout",
       "prompt_number": 23,
       "text": [
        "5"
       ]
      }
     ],
     "prompt_number": 23
    },
    {
     "cell_type": "markdown",
     "metadata": {},
     "source": [
      "To capture the last element in any indexible object, subtract 1 from the length of the object. If you ask for something at an index that doesn't exist in the object, python will throw an error. "
     ]
    },
    {
     "cell_type": "code",
     "collapsed": false,
     "input": [
      "fruit[5]"
     ],
     "language": "python",
     "metadata": {},
     "outputs": [
      {
       "ename": "IndexError",
       "evalue": "string index out of range",
       "output_type": "pyerr",
       "traceback": [
        "\u001b[0;31m---------------------------------------------------------------------------\u001b[0m\n\u001b[0;31mIndexError\u001b[0m                                Traceback (most recent call last)",
        "\u001b[0;32m<ipython-input-24-7e4f5eb7330e>\u001b[0m in \u001b[0;36m<module>\u001b[0;34m()\u001b[0m\n\u001b[0;32m----> 1\u001b[0;31m \u001b[0mfruit\u001b[0m\u001b[0;34m[\u001b[0m\u001b[0;36m5\u001b[0m\u001b[0;34m]\u001b[0m\u001b[0;34m\u001b[0m\u001b[0m\n\u001b[0m",
        "\u001b[0;31mIndexError\u001b[0m: string index out of range"
       ]
      }
     ],
     "prompt_number": 24
    },
    {
     "cell_type": "code",
     "collapsed": false,
     "input": [
      "fruit[4]"
     ],
     "language": "python",
     "metadata": {},
     "outputs": [
      {
       "metadata": {},
       "output_type": "pyout",
       "prompt_number": 25,
       "text": [
        "'E'"
       ]
      }
     ],
     "prompt_number": 25
    },
    {
     "cell_type": "markdown",
     "metadata": {},
     "source": [
      "Strings can be concatenated using the `+` operator.  "
     ]
    },
    {
     "cell_type": "code",
     "collapsed": false,
     "input": [
      "fruit + \" and bananas\""
     ],
     "language": "python",
     "metadata": {},
     "outputs": [
      {
       "metadata": {},
       "output_type": "pyout",
       "prompt_number": 26,
       "text": [
        "'APPLE and bananas'"
       ]
      }
     ],
     "prompt_number": 26
    },
    {
     "cell_type": "markdown",
     "metadata": {},
     "source": [
      "Be aware of your data types; the `+` operator is overloaded, which means it does different things on different data types. On numeric variables, it will perform addition. You can get unexpected behaviors if your variables aren't the type you think they are."
     ]
    },
    {
     "cell_type": "code",
     "collapsed": false,
     "input": [
      "x = 5\n",
      "y = '5'\n",
      "\n",
      "print x+x\n",
      "print y+y"
     ],
     "language": "python",
     "metadata": {},
     "outputs": [
      {
       "output_type": "stream",
       "stream": "stdout",
       "text": [
        "10\n",
        "55\n"
       ]
      }
     ],
     "prompt_number": 27
    },
    {
     "cell_type": "markdown",
     "metadata": {},
     "source": [
      "You can split a single string into a list of separate strings at defined delimiters with the `split` function. Keep in mind that none of the resulting strings will contain the delimiter. "
     ]
    },
    {
     "cell_type": "code",
     "collapsed": false,
     "input": [
      "mystring = \"I'd like to split this sentence into a list of words.\"\n",
      "mystring.split(\" \")"
     ],
     "language": "python",
     "metadata": {},
     "outputs": [
      {
       "metadata": {},
       "output_type": "pyout",
       "prompt_number": 28,
       "text": [
        "[\"I'd\",\n",
        " 'like',\n",
        " 'to',\n",
        " 'split',\n",
        " 'this',\n",
        " 'sentence',\n",
        " 'into',\n",
        " 'a',\n",
        " 'list',\n",
        " 'of',\n",
        " 'words.']"
       ]
      }
     ],
     "prompt_number": 28
    },
    {
     "cell_type": "markdown",
     "metadata": {},
     "source": [
      "You can strip out specified leading and trailing characters with `strip`."
     ]
    },
    {
     "cell_type": "code",
     "collapsed": false,
     "input": [
      "mystring.strip(\".\")"
     ],
     "language": "python",
     "metadata": {},
     "outputs": [
      {
       "metadata": {},
       "output_type": "pyout",
       "prompt_number": 29,
       "text": [
        "\"I'd like to split this sentence into a list of words\""
       ]
      }
     ],
     "prompt_number": 29
    },
    {
     "cell_type": "markdown",
     "metadata": {},
     "source": [
      "If you don't provide any arguments, `strip` will default to removing whitespace."
     ]
    },
    {
     "cell_type": "code",
     "collapsed": false,
     "input": [
      "mystr = \"  demonstration of whitespace stripping!!!!    ??      \"\n",
      "mystr.strip()"
     ],
     "language": "python",
     "metadata": {},
     "outputs": [
      {
       "metadata": {},
       "output_type": "pyout",
       "prompt_number": 30,
       "text": [
        "'demonstration of whitespace stripping!!!!    ??'"
       ]
      }
     ],
     "prompt_number": 30
    },
    {
     "cell_type": "markdown",
     "metadata": {},
     "source": [
      "To remove characters from the middle of a string, use `replace`. `replace` takes two arguments: the first is the substring you'd like replaced, and the second is what you'd like to replace it with. To remove all instances of a string, set the replacement argument to an empty string."
     ]
    },
    {
     "cell_type": "code",
     "collapsed": false,
     "input": [
      "mystr.replace(\" \",\"\")"
     ],
     "language": "python",
     "metadata": {},
     "outputs": [
      {
       "metadata": {},
       "output_type": "pyout",
       "prompt_number": 31,
       "text": [
        "'demonstrationofwhitespacestripping!!!!??'"
       ]
      }
     ],
     "prompt_number": 31
    },
    {
     "cell_type": "markdown",
     "metadata": {},
     "source": [
      "You can search for a particular substring within a string using `find`. This will return the index of the first character of the first instance of the substring. `rfind` will locate the index of the first character of the last occurence. If the substring does not exist in the searched string, these functions will return a value of -1. The `re` package, discussed in another tutorial, provides more functionality."
     ]
    },
    {
     "cell_type": "code",
     "collapsed": false,
     "input": [
      "mystr.find(\"e\")"
     ],
     "language": "python",
     "metadata": {},
     "outputs": [
      {
       "metadata": {},
       "output_type": "pyout",
       "prompt_number": 32,
       "text": [
        "3"
       ]
      }
     ],
     "prompt_number": 32
    },
    {
     "cell_type": "code",
     "collapsed": false,
     "input": [
      "mystr.rfind(\"e\")"
     ],
     "language": "python",
     "metadata": {},
     "outputs": [
      {
       "metadata": {},
       "output_type": "pyout",
       "prompt_number": 33,
       "text": [
        "28"
       ]
      }
     ],
     "prompt_number": 33
    },
    {
     "cell_type": "code",
     "collapsed": false,
     "input": [
      "mystr.find(\"x\")"
     ],
     "language": "python",
     "metadata": {},
     "outputs": [
      {
       "metadata": {},
       "output_type": "pyout",
       "prompt_number": 34,
       "text": [
        "-1"
       ]
      }
     ],
     "prompt_number": 34
    },
    {
     "cell_type": "markdown",
     "metadata": {},
     "source": [
      "You can test for various properties of strings using the functions with `is` prefixes. `isalpha` will return a `bool` value of True if all characters in a string are letters (letters), and False if 1 or more characters are not."
     ]
    },
    {
     "cell_type": "code",
     "collapsed": false,
     "input": [
      "pres = \"OBAMA\"\n",
      "pres2 = \"Obama!\"\n",
      "print pres.isalpha()\n",
      "print pres2.isalpha()\n"
     ],
     "language": "python",
     "metadata": {},
     "outputs": [
      {
       "output_type": "stream",
       "stream": "stdout",
       "text": [
        "True\n",
        "False\n"
       ]
      }
     ],
     "prompt_number": 35
    },
    {
     "cell_type": "markdown",
     "metadata": {},
     "source": [
      "`isupper` will similarly test whether all of the alphabetic characters are upper case. The analagous `islower` function tests for lower case letters."
     ]
    },
    {
     "cell_type": "code",
     "collapsed": false,
     "input": [
      "print pres.isupper()\n",
      "print pres2.isupper()"
     ],
     "language": "python",
     "metadata": {},
     "outputs": [
      {
       "output_type": "stream",
       "stream": "stdout",
       "text": [
        "True\n",
        "False\n"
       ]
      }
     ],
     "prompt_number": 36
    },
    {
     "cell_type": "markdown",
     "metadata": {},
     "source": [
      "Similar functions exist to test for digits and whitespace."
     ]
    },
    {
     "cell_type": "code",
     "collapsed": false,
     "input": [
      "nums1 = \"0123456\"\n",
      "nums1.isdigit()"
     ],
     "language": "python",
     "metadata": {},
     "outputs": [
      {
       "metadata": {},
       "output_type": "pyout",
       "prompt_number": 37,
       "text": [
        "True"
       ]
      }
     ],
     "prompt_number": 37
    },
    {
     "cell_type": "code",
     "collapsed": false,
     "input": [
      "nums2 = \"$15.00\"\n",
      "nums2.isdigit()"
     ],
     "language": "python",
     "metadata": {},
     "outputs": [
      {
       "metadata": {},
       "output_type": "pyout",
       "prompt_number": 38,
       "text": [
        "False"
       ]
      }
     ],
     "prompt_number": 38
    },
    {
     "cell_type": "code",
     "collapsed": false,
     "input": [
      "s = \" \"\n",
      "s.isspace()"
     ],
     "language": "python",
     "metadata": {},
     "outputs": [
      {
       "metadata": {},
       "output_type": "pyout",
       "prompt_number": 39,
       "text": [
        "True"
       ]
      }
     ],
     "prompt_number": 39
    },
    {
     "cell_type": "markdown",
     "metadata": {},
     "source": [
      "`startswith` tests whether a string begins with a substring, provided as an argument."
     ]
    },
    {
     "cell_type": "code",
     "collapsed": false,
     "input": [
      "pres.startswith(\"O\")"
     ],
     "language": "python",
     "metadata": {},
     "outputs": [
      {
       "metadata": {},
       "output_type": "pyout",
       "prompt_number": 40,
       "text": [
        "True"
       ]
      }
     ],
     "prompt_number": 40
    },
    {
     "cell_type": "markdown",
     "metadata": {},
     "source": [
      "But remember that it is case sensitive!"
     ]
    },
    {
     "cell_type": "code",
     "collapsed": false,
     "input": [
      "pres.startswith(\"o\")"
     ],
     "language": "python",
     "metadata": {},
     "outputs": [
      {
       "metadata": {},
       "output_type": "pyout",
       "prompt_number": 41,
       "text": [
        "False"
       ]
      }
     ],
     "prompt_number": 41
    },
    {
     "cell_type": "markdown",
     "metadata": {},
     "source": [
      "#Summary\n",
      "\n",
      "##Differences from R\n",
      "- whitespace\n",
      "- 0 indexing\n",
      "- integer division\n",
      "\n",
      "##Data Types\n",
      "### ints vs floats\n",
      "\n",
      "- whole numbers vs decimals\n",
      "- integer division\n",
      "- `type`\n",
      "- `+` adds values\n",
      "\n",
      "### booleans\n",
      "\n",
      "- True vs False\n",
      "- corresponding numeric values of 0 and 1\n",
      "- ==, !=, and, or\n",
      "    \n",
      "### strings\n",
      "\n",
      "- declare with \"\" or '', cast with str()\n",
      "- `+` concatenates values\n",
      "- indexible\n"
     ]
    }
   ],
   "metadata": {}
  }
 ]
}