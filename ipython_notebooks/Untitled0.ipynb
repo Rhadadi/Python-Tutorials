{
 "metadata": {
  "name": "",
  "signature": "sha256:aa7268ccd064e8354b1a4f805d387d77ce7823805ffead81d95bfe29ab1edb79"
 },
 "nbformat": 3,
 "nbformat_minor": 0,
 "worksheets": [
  {
   "cells": [
    {
     "cell_type": "markdown",
     "metadata": {},
     "source": [
      "#Working with JSON\n",
      "\n",
      "PS 452: Text as Data\n",
      "\n",
      "Fall 2014\n",
      "\n",
      "Department of Political Science, Stanford University\n",
      "\n",
      "Created by **Frances Zlotnick**\n",
      "\n",
      "Please contact me at zlotnick@stanford.edu with questions or comments."
     ]
    },
    {
     "cell_type": "markdown",
     "metadata": {},
     "source": [
      "This document provides a demonstration of how to acquire and parse data in JSON format.\n",
      "\n",
      "Many organizations provide access to their data through an application programming interface, or API. The API provides a simple method for requesting and receiving data. Every API is used somewhat differently, but most follow a standard framework called RESTful style. This tutorial leaves a detailed explanation of using the API for another time, and focuses on how to process the data once downloaded.\n",
      "\n",
      "Many APIs only provide data in JSON or XML format. For this reason, it is important to be comfortable with one (and preferably both) of these formats. Fortunately, python's native data structures, combined with the JSON module, make processing JSON files very simple."
     ]
    },
    {
     "cell_type": "markdown",
     "metadata": {},
     "source": [
      "##Downloading data through an API\n",
      "\n",
      "We will use the New York Times' Article Search API to download a sample of articles matching a search query. As you know from the web scraping tutorial, I study organized labor, so we will search for news articles from the past 15 years mentioning labor unions. This API, like many, only returns data in JSON or XML format, so we will request JSON.\n",
      "\n",
      "Like most APIs, this one requires that we provide a key. I've blocked out my key here, but it is easy to request and provide your own. \n",
      "\n",
      "This API returns only a limited number of articles per request, so we'll have to issue multiple requests in order to get a relatively large sample. The code below the main loop inserts the results from all of the calls into a single JSON structure. This isn't required, and is only done here in order to make it easier to demonstrate how to parse JSON.\n"
     ]
    },
    {
     "cell_type": "code",
     "collapsed": false,
     "input": [
      "import requests\n",
      "import os\n",
      "import re\n",
      "import json\n",
      "from pprint import pprint\n",
      "\n",
      "calls = []\n",
      "\n",
      "for i in range(0,10):\n",
      "    apicall = \"http://api.nytimes.com/svc/search/v2/articlesearch.json?q=%22labor+unions%22&begin_date=20000101&end_date=20141022&page=\"\n",
      "    key= \"&api-key=acd7973befdc1e0e8e1dd391cd2e6c1b%3A7%3A70043608\"\n",
      "    url = apicall + str(i) + key\n",
      "    r = requests.get(url)\n",
      "    calls.append(r.json())\n",
      "\n",
      "\n",
      "data = calls[0]\n",
      "\n",
      "for i in calls[1:]:\n",
      "    data[\"response\"][\"docs\"] += i[\"response\"][\"docs\"]"
     ],
     "language": "python",
     "metadata": {},
     "outputs": [],
     "prompt_number": 3
    },
    {
     "cell_type": "markdown",
     "metadata": {},
     "source": [
      "We now have a single JSON structure called `data` that contains all of our data. "
     ]
    },
    {
     "cell_type": "markdown",
     "metadata": {},
     "source": [
      "## JSON\n",
      "\n",
      "JSON stands for Javascript Object Notation, and is a standard format for storing and transfering data objects consisting of value-attribute pairs. Python's native data structures, particularly the `dictionary` are extremely well suited to this sort of organization, so the `JSON` library makes heavy use of them. Beacuse this type of data often includes many levels of data hierarchies, JSON structures typically include many layers of nested dictionaries and lists. \n",
      "\n",
      "You may or may not know what fields are included in your data, and how they are organized, before you start to work with it. A strong grasp of data structures will be essential in parsing a new data set.\n",
      "\n",
      "From our API call, we do not know how the data we receive is structured, so the first thing we will do is check the size and type of the outer object."
     ]
    },
    {
     "cell_type": "code",
     "collapsed": false,
     "input": [
      "len(data)"
     ],
     "language": "python",
     "metadata": {},
     "outputs": [
      {
       "metadata": {},
       "output_type": "pyout",
       "prompt_number": 4,
       "text": [
        "3"
       ]
      }
     ],
     "prompt_number": 4
    },
    {
     "cell_type": "code",
     "collapsed": false,
     "input": [
      "type(data)"
     ],
     "language": "python",
     "metadata": {},
     "outputs": [
      {
       "metadata": {},
       "output_type": "pyout",
       "prompt_number": 5,
       "text": [
        "dict"
       ]
      }
     ],
     "prompt_number": 5
    },
    {
     "cell_type": "markdown",
     "metadata": {},
     "source": [
      "The outer-most layer of this data is a dictionary, so we'll take a look at the keys."
     ]
    },
    {
     "cell_type": "code",
     "collapsed": false,
     "input": [
      "data.keys()\n"
     ],
     "language": "python",
     "metadata": {},
     "outputs": [
      {
       "metadata": {},
       "output_type": "pyout",
       "prompt_number": 21,
       "text": [
        "[u'status', u'response', u'copyright']"
       ]
      }
     ],
     "prompt_number": 21
    },
    {
     "cell_type": "markdown",
     "metadata": {},
     "source": [
      "We'll look at all three of these.\n"
     ]
    },
    {
     "cell_type": "code",
     "collapsed": false,
     "input": [
      "data[\"status\"]"
     ],
     "language": "python",
     "metadata": {},
     "outputs": [
      {
       "metadata": {},
       "output_type": "pyout",
       "prompt_number": 22,
       "text": [
        "u'OK'"
       ]
      }
     ],
     "prompt_number": 22
    },
    {
     "cell_type": "markdown",
     "metadata": {},
     "source": [
      "Status is an indicator of the success of the API call. If the request fails, either due to a malformed request or a server error, we will see an error code here. Here our request was successful, so we see the status message \"OK.\" "
     ]
    },
    {
     "cell_type": "code",
     "collapsed": false,
     "input": [
      "data[\"copyright\"]"
     ],
     "language": "python",
     "metadata": {},
     "outputs": [
      {
       "metadata": {},
       "output_type": "pyout",
       "prompt_number": 23,
       "text": [
        "u'Copyright (c) 2013 The New York Times Company.  All Rights Reserved.'"
       ]
      }
     ],
     "prompt_number": 23
    },
    {
     "cell_type": "markdown",
     "metadata": {},
     "source": [
      "This is simply the copyright data. We aren't very interested in this, either."
     ]
    },
    {
     "cell_type": "markdown",
     "metadata": {},
     "source": [
      "The data we are interested in is stored in the values from the dictionary key \"response\". I know that this includes a lot of data so before I print it out, I'll figure out what its structure is."
     ]
    },
    {
     "cell_type": "code",
     "collapsed": false,
     "input": [
      "type(data[\"response\"])"
     ],
     "language": "python",
     "metadata": {},
     "outputs": [
      {
       "metadata": {},
       "output_type": "pyout",
       "prompt_number": 24,
       "text": [
        "dict"
       ]
      }
     ],
     "prompt_number": 24
    },
    {
     "cell_type": "markdown",
     "metadata": {},
     "source": [
      "Any time I see a `dictionary`, the first thing to do is to look at the keys.\n"
     ]
    },
    {
     "cell_type": "code",
     "collapsed": false,
     "input": [
      "data[\"response\"].keys()"
     ],
     "language": "python",
     "metadata": {},
     "outputs": [
      {
       "metadata": {},
       "output_type": "pyout",
       "prompt_number": 25,
       "text": [
        "[u'docs', u'meta']"
       ]
      }
     ],
     "prompt_number": 25
    },
    {
     "cell_type": "code",
     "collapsed": false,
     "input": [
      "type(data[\"response\"][\"docs\"])"
     ],
     "language": "python",
     "metadata": {},
     "outputs": [
      {
       "metadata": {},
       "output_type": "pyout",
       "prompt_number": 26,
       "text": [
        "list"
       ]
      }
     ],
     "prompt_number": 26
    },
    {
     "cell_type": "code",
     "collapsed": false,
     "input": [
      "type(data[\"response\"][\"meta\"])"
     ],
     "language": "python",
     "metadata": {},
     "outputs": [
      {
       "metadata": {},
       "output_type": "pyout",
       "prompt_number": 27,
       "text": [
        "dict"
       ]
      }
     ],
     "prompt_number": 27
    },
    {
     "cell_type": "markdown",
     "metadata": {},
     "source": [
      "The response dictionary contains two subdictionaries. The value of the \"docs\" key is a list, while the value of the \"meta\" key is another dictionary. We'll explore \"docs\" first."
     ]
    },
    {
     "cell_type": "code",
     "collapsed": false,
     "input": [
      "len(data[\"response\"][\"docs\"])"
     ],
     "language": "python",
     "metadata": {},
     "outputs": [
      {
       "metadata": {},
       "output_type": "pyout",
       "prompt_number": 28,
       "text": [
        "100"
       ]
      }
     ],
     "prompt_number": 28
    },
    {
     "cell_type": "markdown",
     "metadata": {},
     "source": [
      "I'll print out the first item in this list, using the pretty printing function from the pprint module."
     ]
    },
    {
     "cell_type": "code",
     "collapsed": false,
     "input": [
      "pprint(data[\"response\"][\"docs\"][0])"
     ],
     "language": "python",
     "metadata": {},
     "outputs": [
      {
       "output_type": "stream",
       "stream": "stdout",
       "text": [
        "{u'_id': u'53f8c1ca38f0d84410bca6f8',\n",
        " u'abstract': u'New York City labor unions face a backlash from police unions, as well as some of their own members, for participating in Staten Island march protesting the death of Eric Garner while in police custody.',\n",
        " u'blog': [],\n",
        " u'byline': {u'contributor': u'Colin Moynihan and Benjamin Mueller contributed reporting.',\n",
        "             u'original': u'By NIKITA STEWART',\n",
        "             u'person': [{u'firstname': u'Nikita',\n",
        "                          u'lastname': u'STEWART',\n",
        "                          u'organization': u'',\n",
        "                          u'rank': 1,\n",
        "                          u'role': u'reported'}]},\n",
        " u'document_type': u'article',\n",
        " u'headline': {u'main': u'Unions Face Backlash for Joining March on Staten Island',\n",
        "               u'print_headline': u'Labor Unions Criticized for Joining Demonstration',\n",
        "               u'seo': u'At Eric Garner Rally, New York Labor Groups Support Both Police and Protesters'},\n",
        " u'keywords': [{u'is_major': u'Y',\n",
        "                u'name': u'subject',\n",
        "                u'rank': u'1',\n",
        "                u'value': u'Organized Labor'},\n",
        "               {u'is_major': u'Y',\n",
        "                u'name': u'subject',\n",
        "                u'rank': u'2',\n",
        "                u'value': u'Demonstrations, Protests and Riots'},\n",
        "               {u'is_major': u'Y',\n",
        "                u'name': u'subject',\n",
        "                u'rank': u'3',\n",
        "                u'value': u'Police Brutality, Misconduct and Shootings'},\n",
        "               {u'is_major': u'N',\n",
        "                u'name': u'organizations',\n",
        "                u'rank': u'4',\n",
        "                u'value': u'Police Department (NYC)'},\n",
        "               {u'is_major': u'Y',\n",
        "                u'name': u'glocations',\n",
        "                u'rank': u'5',\n",
        "                u'value': u'Staten Island (NYC)'},\n",
        "               {u'is_major': u'Y',\n",
        "                u'name': u'persons',\n",
        "                u'rank': u'6',\n",
        "                u'value': u'Garner, Eric'}],\n",
        " u'lead_paragraph': u'New York City labor unions face a backlash from the police union as well as some of their own members for participating in a march protesting the death of a black man in police custody.',\n",
        " u'multimedia': [{u'height': 126,\n",
        "                  u'legacy': {u'wide': u'images/2014/08/24/nyregion/24LABOR/24LABOR-thumbWide.jpg',\n",
        "                              u'wideheight': u'126',\n",
        "                              u'widewidth': u'190'},\n",
        "                  u'subtype': u'wide',\n",
        "                  u'type': u'image',\n",
        "                  u'url': u'images/2014/08/24/nyregion/24LABOR/24LABOR-thumbWide.jpg',\n",
        "                  u'width': 190},\n",
        "                 {u'height': 400,\n",
        "                  u'legacy': {u'xlarge': u'images/2014/08/24/nyregion/24LABOR/24LABOR-articleLarge.jpg',\n",
        "                              u'xlargeheight': u'400',\n",
        "                              u'xlargewidth': u'600'},\n",
        "                  u'subtype': u'xlarge',\n",
        "                  u'type': u'image',\n",
        "                  u'url': u'images/2014/08/24/nyregion/24LABOR/24LABOR-articleLarge.jpg',\n",
        "                  u'width': 600},\n",
        "                 {u'height': 75,\n",
        "                  u'legacy': {u'thumbnail': u'images/2014/08/24/nyregion/24LABOR/24LABOR-thumbStandard.jpg',\n",
        "                              u'thumbnailheight': u'75',\n",
        "                              u'thumbnailwidth': u'75'},\n",
        "                  u'subtype': u'thumbnail',\n",
        "                  u'type': u'image',\n",
        "                  u'url': u'images/2014/08/24/nyregion/24LABOR/24LABOR-thumbStandard.jpg',\n",
        "                  u'width': 75}],\n",
        " u'news_desk': u'Metro',\n",
        " u'print_page': None,\n",
        " u'pub_date': u'2014-08-24T00:00:00Z',\n",
        " u'section_name': u'N.Y. / Region',\n",
        " u'snippet': u'New York City labor unions face a backlash from the police union as well as some of their own members for participating in a march protesting the death of a black man in police custody.',\n",
        " u'source': u'The New York Times',\n",
        " u'subsection_name': None,\n",
        " u'type_of_material': u'News',\n",
        " u'web_url': u'http://www.nytimes.com/2014/08/24/nyregion/at-eric-garner-rally-new-york-labor-groups-support-both-police-and-protestors.html',\n",
        " u'word_count': u'915'}\n"
       ]
      }
     ],
     "prompt_number": 29
    },
    {
     "cell_type": "code",
     "collapsed": false,
     "input": [
      "type(data[\"response\"][\"docs\"][0])"
     ],
     "language": "python",
     "metadata": {},
     "outputs": [
      {
       "metadata": {},
       "output_type": "pyout",
       "prompt_number": 30,
       "text": [
        "dict"
       ]
      }
     ],
     "prompt_number": 30
    },
    {
     "cell_type": "code",
     "collapsed": false,
     "input": [],
     "language": "python",
     "metadata": {},
     "outputs": []
    }
   ],
   "metadata": {}
  }
 ]
}