{
 "metadata": {
  "name": "",
  "signature": "sha256:fd297a02167510eb572b16ede1adafec81ab197ba19c9103ac2206555308e51f"
 },
 "nbformat": 3,
 "nbformat_minor": 0,
 "worksheets": [
  {
   "cells": [
    {
     "cell_type": "markdown",
     "metadata": {},
     "source": [
      "#Hierarchical and Associative Data Structures in Python vs R\n",
      "## or How I learned to Stop Worrying and Love the Dictionary\n",
      "\n",
      "PS 452: Text as Data\n",
      "\n",
      "Fall 2014\n",
      "\n",
      "Department of Political Science, Stanford University\n",
      "\n",
      "Created by **Frances Zlotnick**\n",
      "\n",
      "Please contact me at zlotnick@stanford.edu with questions or comments."
     ]
    },
    {
     "cell_type": "markdown",
     "metadata": {},
     "source": [
      "This document supplements the Data Structures tutorial by providing some additional rationale and examples for the use of the `dictionary` structure in python. It is written for `R` users who have a basic understanding of programming but no formal computer science training. \n",
      "\n",
      "If you are already convinced, you can [skip to the applied section on using nested dictionaries](#nestedDicts). If you want to believe, keep reading."
     ]
    },
    {
     "cell_type": "markdown",
     "metadata": {},
     "source": [
      "##Why use `dictionaries`?\n",
      "\n",
      "One of the major differences between `R` and python is that python has no native data frame structure. `R` users often try to approximate data frames in python by using nested lists or multiple unassociated lists. This is a bad idea for a number of reasons:\n",
      "   \n",
      "   1. It is likely to introduce errors into your data.\n",
      "   2. It is slow.\n",
      "   3. It fails to take advantage of python's native data structures that are optimized for this task.\n",
      "   \n",
      "Python's analgous data structure is the `dictionary`, which holds pairs of values in a hashed object that is virtually instant to search over. The key to understanding dictionaries is to think of your data as a collection of observations with associated attributes, rather than a 2-dimensional table of values.\n",
      "\n",
      "You can write a table of data in the following way \n",
      "\n",
      "\n",
      "| Fruit       | color   | citrus |Good for pie |\n",
      "|-------------|---------|--------|--------------------|\n",
      "|   \"Apple\"   | \"red\"   | 0      |  \"yes\"             |\n",
      "|   \"Orange\"  | \"orange\"| 1      |  \"no\"              |\n",
      "|   \"Banana\"  | \"yellow\"| 0      |  \"maybe\"           |\n",
      "|   \"Grape\"   | \"green\" | 0      |  \"no\"              |\n",
      "|   \"Lemon\"   | \"yellow\"| 1      |  \"maybe\"           |\n",
      "\n",
      "You can, equivalently, write exactly the same information the following way.\n",
      "\n",
      "**Apple**: <br>\n",
      "color: \"red\" <br>\n",
      "citrus: 0 <br>\n",
      "Good for pie: \"yes\" <br>\n",
      "\n",
      "\n",
      "**Orange**: <br>\n",
      "color: \"orange\" <br>\n",
      "citrus: 1 <br>\n",
      "Good for pie: \"no\" <br>\n",
      "\n",
      "and so on. This seems pretty obvious, but it is a significant change in how to think about data, and it takes practice to start thinking thinking of your data as objects with attributes rather than rows and columns of a table. While it might be a philosophical distinction for some purposes, it has important implications for approaching computational tasks.\n"
     ]
    },
    {
     "cell_type": "markdown",
     "metadata": {},
     "source": [
      "### R dataframes and vectors versus python lists\n",
      "\n",
      "Data frames in `R` are sets of linked vectors. Under the hood, `dataframes` are are a subset of `R` `lists` with a few restrictions imposed, like that all of the vectors must be of the same length. Operations on `dataframes` maintain the overall associative structure between the constituent vectors. \n"
     ]
    },
    {
     "cell_type": "code",
     "collapsed": false,
     "input": [
      "%%capture capt\n",
      "import rpy2, os\n",
      "os.chdir(\"/Users/franceszlotnick/Dropbox/TextAsData/Sections/Tutorials/\")\n",
      "%load_ext rpy2.ipython"
     ],
     "language": "python",
     "metadata": {},
     "outputs": [],
     "prompt_number": 1
    },
    {
     "cell_type": "code",
     "collapsed": false,
     "input": [
      "%R vecA<- c(\"A\",\"B\",\"C\")\n",
      "%R vecB<-  c(83,2,15)\n",
      "%R vecC<- c(\"x\", \"y\",\"z\")\n",
      "%R df<- data.frame(vecA, vecB, vecC)\n",
      "%R print(df)"
     ],
     "language": "python",
     "metadata": {},
     "outputs": [
      {
       "metadata": {},
       "output_type": "display_data",
       "text": [
        "  vecA vecB vecC\n",
        "1    A   83    x\n",
        "2    B    2    y\n",
        "3    C   15    z\n"
       ]
      }
     ],
     "prompt_number": 2
    },
    {
     "cell_type": "markdown",
     "metadata": {},
     "source": [
      "If you reorder a dataframe, the relative location of all of the observations shift to maintain the appropraite structure."
     ]
    },
    {
     "cell_type": "code",
     "collapsed": false,
     "input": [
      "%R print(df[order(vecB),])"
     ],
     "language": "python",
     "metadata": {},
     "outputs": [
      {
       "metadata": {},
       "output_type": "display_data",
       "text": [
        "  vecA vecB vecC\n",
        "2    B    2    y\n",
        "3    C   15    z\n",
        "1    A   83    x\n"
       ]
      }
     ],
     "prompt_number": 3
    },
    {
     "cell_type": "markdown",
     "metadata": {},
     "source": [
      "Python does not natively have a data frame structure. There is no way to link various `lists` to eachother, so they are all standalone objects. `R` users often try to approximate data frames in python by using nested `lists` or just many `lists` with associated observations stored at equivalent indices. This is a bad idea because, unlike `R` `vectors`, **python lists are mutable**.\n",
      "\n",
      "In `R`, vectors are immutable. Performing operations on vectors reuturns an entirely new vector, it doesn't change the underlying data.  "
     ]
    },
    {
     "cell_type": "code",
     "collapsed": false,
     "input": [
      "%R vec<- c(1:10)\n",
      "%R print(vec)\n",
      "%R print(sort(vec, decreasing=T))\n",
      "%R print(vec)"
     ],
     "language": "python",
     "metadata": {},
     "outputs": [
      {
       "metadata": {},
       "output_type": "display_data",
       "text": [
        " [1]  1  2  3  4  5  6  7  8  9 10\n"
       ]
      },
      {
       "metadata": {},
       "output_type": "display_data",
       "text": [
        " [1] 10  9  8  7  6  5  4  3  2  1\n"
       ]
      },
      {
       "metadata": {},
       "output_type": "display_data",
       "text": [
        " [1]  1  2  3  4  5  6  7  8  9 10\n"
       ]
      }
     ],
     "prompt_number": 4
    },
    {
     "cell_type": "markdown",
     "metadata": {},
     "source": [
      "To modify a `vector`, you have to apply some function and then save the returned object over the existing variable name."
     ]
    },
    {
     "cell_type": "code",
     "collapsed": false,
     "input": [
      "%R vec<- sort(vec, decreasing=T)\n",
      "%R print(vec)"
     ],
     "language": "python",
     "metadata": {},
     "outputs": [
      {
       "metadata": {},
       "output_type": "display_data",
       "text": [
        " [1] 10  9  8  7  6  5  4  3  2  1\n"
       ]
      }
     ],
     "prompt_number": 5
    },
    {
     "cell_type": "markdown",
     "metadata": {},
     "source": [
      "Python lists are mutable, which means you can sort, add or remove elements, and perform many other functions on a list without explictly saving those changes and it will change the underlying object."
     ]
    },
    {
     "cell_type": "code",
     "collapsed": false,
     "input": [
      "exampleList = range(1,11)\n",
      "exampleList"
     ],
     "language": "python",
     "metadata": {},
     "outputs": [
      {
       "metadata": {},
       "output_type": "pyout",
       "prompt_number": 6,
       "text": [
        "[1, 2, 3, 4, 5, 6, 7, 8, 9, 10]"
       ]
      }
     ],
     "prompt_number": 6
    },
    {
     "cell_type": "code",
     "collapsed": false,
     "input": [
      "exampleList.sort(reverse=True)\n",
      "exampleList"
     ],
     "language": "python",
     "metadata": {},
     "outputs": [
      {
       "metadata": {},
       "output_type": "pyout",
       "prompt_number": 7,
       "text": [
        "[10, 9, 8, 7, 6, 5, 4, 3, 2, 1]"
       ]
      }
     ],
     "prompt_number": 7
    },
    {
     "cell_type": "markdown",
     "metadata": {},
     "source": [
      "For this reason, it is dangerous to rely solely on observations being located at equivalent indices in separate lists; it extremely easy to destroy the structure of your data. If you accidentally reorder or otherwise change elements in one list, you will not be able to match observations across lists."
     ]
    },
    {
     "cell_type": "markdown",
     "metadata": {},
     "source": [
      "### Lists vs Dicts\n",
      "\n",
      "Another reason to use `dictionaries` is that they are much faster to search through than `lists`. `Dicts` are *hashed* objects, which means that their keys are stored at a particular location in memory according to a hashing function that takes the input and maps it to a memory address. The details of this aren't important for our purposes, but the result is that searching for a particular element in a hashed object is virtually instant.  Lists are not hashed, so searching over a list requires the computer must begin at index 0 and check every element sequentially.  \n",
      "\n",
      "Computer scientists evaluate the complexity of algorithms and operations based on how long it takes to run as the data approaches size N, and express this through \"Big O Notation.\" Searching over a `list` is O(N), while searching over a `dict` or a `set` is O(1). This means that as your data grows, searching over a `list` will take longer and longer, while the speed of searching over a hashed object will stay constant. "
     ]
    },
    {
     "cell_type": "code",
     "collapsed": false,
     "input": [
      "x = range(0,100000)\n",
      "y = set(x)"
     ],
     "language": "python",
     "metadata": {},
     "outputs": [],
     "prompt_number": 8
    },
    {
     "cell_type": "code",
     "collapsed": false,
     "input": [
      "%%timeit\n",
      "#searching over a list\n",
      "80000 in x"
     ],
     "language": "python",
     "metadata": {},
     "outputs": [
      {
       "output_type": "stream",
       "stream": "stdout",
       "text": [
        "1000 loops, best of 3: 1.9 ms per loop\n"
       ]
      }
     ],
     "prompt_number": 9
    },
    {
     "cell_type": "code",
     "collapsed": false,
     "input": [
      "%%timeit\n",
      "#searching over a set\n",
      "80000 in y"
     ],
     "language": "python",
     "metadata": {},
     "outputs": [
      {
       "output_type": "stream",
       "stream": "stdout",
       "text": [
        "10000000 loops, best of 3: 129 ns per loop\n"
       ]
      }
     ],
     "prompt_number": 10
    },
    {
     "cell_type": "markdown",
     "metadata": {},
     "source": [
      "Note the units on those results. There are 1 million nanoseconds in a milisecond. Searching through a list takes over *10,000* times longer than searching through an equivalent hashed structure. This is a trivial example, but since you perform many hundreds of operations on objects of significant length in a given script, this time adds up and can slow down your code to point of hanging."
     ]
    },
    {
     "cell_type": "markdown",
     "metadata": {},
     "source": [
      "Let's look at another example that represents a task we often encounter. Say we have have a set of cases with one associated value for each case. I want to check whether some other set of cases exist in my data, and if so, get the associated value, and put the pair into another list as a tuple.\n",
      "\n",
      "We can represent this as two lists, or as a dictionary. Let's examine the list method first."
     ]
    },
    {
     "cell_type": "code",
     "collapsed": false,
     "input": [
      "import random \n",
      "\n",
      "\n",
      "#create list of cases\n",
      "caseid = []\n",
      "for i in range(0, 25000):\n",
      "    caseid.append(\"FJZ\" + str(i))\n",
      "\n",
      "#create list of paired observations. We'll make up some random data.   \n",
      "observations = []\n",
      "for i in range(0, 25000):\n",
      "    observations.append(random.randint(1,10))\n",
      "    \n",
      "#create a list of cases to search for in our data. Some of these won't actually be in our data.\n",
      "casesToFind = []\n",
      "for i in range(100):  \n",
      "    casesToFind.append(\"FJZ\" + str(random.randint(0,50000)))"
     ],
     "language": "python",
     "metadata": {},
     "outputs": [],
     "prompt_number": 11
    },
    {
     "cell_type": "markdown",
     "metadata": {},
     "source": [
      "Now we'll loop over our list of caseid's, checking whether each one corresponds to something in our data. If so, we'll find what index it exists at, find the observation in the corresponding list at that same index, and add the pair to some other list as a tuple."
     ]
    },
    {
     "cell_type": "code",
     "collapsed": false,
     "input": [
      "%%timeit\n",
      "found = []\n",
      "for i in casesToFind:\n",
      "    if i in caseid:\n",
      "        whereAt = caseid.index(i)\n",
      "        found.append((i, observations[whereAt]))\n"
     ],
     "language": "python",
     "metadata": {},
     "outputs": [
      {
       "output_type": "stream",
       "stream": "stdout",
       "text": [
        "10 loops, best of 3: 50.4 ms per loop\n"
       ]
      }
     ],
     "prompt_number": 12
    },
    {
     "cell_type": "markdown",
     "metadata": {},
     "source": [
      "Now let's do the equivalent task with a dicitonary."
     ]
    },
    {
     "cell_type": "code",
     "collapsed": false,
     "input": [
      "#put our data into a dictionary with the caseids as keys and observations as values\n",
      "d = {}\n",
      "\n",
      "for i in range(0, len(caseid)):\n",
      "    d[caseid[i]] = observations[i]"
     ],
     "language": "python",
     "metadata": {},
     "outputs": [],
     "prompt_number": 13
    },
    {
     "cell_type": "markdown",
     "metadata": {},
     "source": [
      "We once again loop over our search list, but now we check whether the element exists as a key in our dicitonary, and if so, append the key and associated value to our found `list`."
     ]
    },
    {
     "cell_type": "code",
     "collapsed": false,
     "input": [
      "%%timeit\n",
      "found = []\n",
      "for i in casesToFind:\n",
      "    if d.has_key(i):\n",
      "        found.append((i, d[i]))"
     ],
     "language": "python",
     "metadata": {},
     "outputs": [
      {
       "output_type": "stream",
       "stream": "stdout",
       "text": [
        "10000 loops, best of 3: 30 \u00b5s per loop\n"
       ]
      }
     ],
     "prompt_number": 14
    },
    {
     "cell_type": "markdown",
     "metadata": {},
     "source": [
      "This task is more than *1500* times faster with a dicitonary than with lists. "
     ]
    },
    {
     "cell_type": "markdown",
     "metadata": {},
     "source": [
      "Now that you know all about why you *should* use dictionaries, let's talk a little more about how to use nested dictionaries. The logic is the same as a regular dicitonary, but it can be tricky to get the hang of it."
     ]
    },
    {
     "cell_type": "markdown",
     "metadata": {},
     "source": [
      "<a id='nestedDicts'></a>\n",
      "\n",
      "## Nested Dictionaries\n",
      "\n",
      "Because `dicts` can hold any type of object or collection as values, it is possible to store other `dicts` as values. This type of nesting is very useful if you want to be able to iterate over objects that have many associated values.\n",
      "\n",
      "Lets begin with a small example: I have a set of information about various countries around the world. Since the data is associated, it makes the most sense to store these data in dictionaries."
     ]
    },
    {
     "cell_type": "code",
     "collapsed": false,
     "input": [
      "\n",
      "\n",
      "usa = {\"population\": 318968000, \n",
      "       \"majority language\": \"english\", \n",
      "       \"GDP per cap\": \"$53,001\", \n",
      "       \"capital\": \"Washington, D.C.\"\n",
      "       } \n",
      "\n",
      "poland = {\"population\": 38485779, \n",
      "       \"majority language\": \"polish\", \n",
      "       \"GDP per cap\": \"$21,118\", \n",
      "       \"capital\": \"Warsaw\"\n",
      "       } \n",
      "\n",
      "uzbekistan = {\n",
      "        \"population\": 30185000, \n",
      "       \"majority language\": \"uzbek\", \n",
      "       \"GDP per cap\": \"$4,038\", \n",
      "       \"capital\": \"Tashkent\"\n",
      "        }\n",
      "\n",
      "tanzania = {        \n",
      "        \"population\": 47400000, \n",
      "       \"majority language\": \"swahili\", \n",
      "       \"GDP per cap\": \"$1,813\", \n",
      "       \"capital\": \"Dar es Salaam\"\n",
      "        }"
     ],
     "language": "python",
     "metadata": {},
     "outputs": [],
     "prompt_number": 15
    },
    {
     "cell_type": "markdown",
     "metadata": {},
     "source": [
      "Now if want a list of the capitals of all of the countries, I can easily pull that out."
     ]
    },
    {
     "cell_type": "code",
     "collapsed": false,
     "input": [
      "print usa[\"capital\"]\n",
      "print poland[\"capital\"]\n",
      "print uzbekistan[\"capital\"]\n",
      "print tanzania[\"capital\"]"
     ],
     "language": "python",
     "metadata": {},
     "outputs": [
      {
       "output_type": "stream",
       "stream": "stdout",
       "text": [
        "Washington, D.C.\n",
        "Warsaw\n",
        "Tashkent\n",
        "Dar es Salaam\n"
       ]
      }
     ],
     "prompt_number": 16
    },
    {
     "cell_type": "markdown",
     "metadata": {},
     "source": [
      "It would be nice if I didn't have to do all that typing to do exactly the same task, but since these are unlinked objects there is no simple syntax for doing that. If we put them all into the same structure, however, we can do this very simply. Since these are all similar objects (i.e. dicitonaries with country data), it makes sense for us to nest all of these inside of a larger \"countries\" dictionary that holds each of these country-specific dictionaries as a value.\n",
      "\n",
      "More conceptually, though, what we have with the separate dictionaries are the equivalent of *unlinked rows on a data set*. We want to bind these \"rows\" together to form a complete dataset. "
     ]
    },
    {
     "cell_type": "code",
     "collapsed": false,
     "input": [
      "countries = {}\n",
      "countries[\"usa\"] = usa\n",
      "countries[\"poland\"] = poland\n",
      "countries[\"uzbekistan\"] = uzbekistan\n",
      "countries[\"tanzania\"] = tanzania"
     ],
     "language": "python",
     "metadata": {},
     "outputs": [],
     "prompt_number": 17
    },
    {
     "cell_type": "markdown",
     "metadata": {},
     "source": [
      "Now we can iterate over our outer dictionary and print out all of the capitals without all of the repetitive code. Note that the `in` operator, when used with dictionaries, iterates over the keys (not the values) in the dictionary."
     ]
    },
    {
     "cell_type": "code",
     "collapsed": false,
     "input": [
      "for a in countries:\n",
      "    print countries[a][\"capital\"]"
     ],
     "language": "python",
     "metadata": {},
     "outputs": [
      {
       "output_type": "stream",
       "stream": "stdout",
       "text": [
        "Tashkent\n",
        "Warsaw\n",
        "Dar es Salaam\n",
        "Washington, D.C.\n"
       ]
      }
     ],
     "prompt_number": 18
    },
    {
     "cell_type": "markdown",
     "metadata": {},
     "source": [
      "That was easy, but we can see that the order is unexpected. As described above, dictionaries store keys in memory according to a hashing function that takes the key value as an input. This means that there is no relationship between the order in which an object is added to a dictionary and the order in which the objects are stored in memory or returned when called. This means that *dictionaries have no inherent ordering, regardless of what order objects print out when called.* If you need ordering information in your data structure, a dictionary is the wrong tool. But, once you stop using locations in lists as a means of identifying associated observations, you will find that there are relatively few occaisions where ordering actually matters and can't be recorded as a value in the dictionary. "
     ]
    },
    {
     "cell_type": "markdown",
     "metadata": {},
     "source": [
      "\n",
      "If our data was originally in the form of independent lists, it would actually be simpler to collect all of this into a nested structure to begin with, rather than starting with the inner dictionaries.\n"
     ]
    },
    {
     "cell_type": "code",
     "collapsed": false,
     "input": [
      "names = [\"usa\", \"poland\", \"uzbekistan\", \"tanzania\"]\n",
      "pop = [318968000, 38485779, 30185000, 47400000]\n",
      "language = [\"english\", \"polish\", \"uzbek\", \"swahili\"]\n",
      "gdp = [\"$53,001\", \"$21,118\",\"$4,038\",\"$1,813\"]\n",
      "capital = [\"Washington, D.C.\", \"Warsaw\", \"Tashkent\", \"Dar es Salaam\"]\n",
      "\n",
      "countries = {} \n",
      "for i in range(0, len(names)):\n",
      "    countries[names[i]] = {\n",
      "        \"population\": pop[i],\n",
      "        \"majority language\": language[i],\n",
      "        \"GDP per cap\": gdp[i],\n",
      "        \"capital\": capital[i]\n",
      "}\n",
      "\n",
      "countries.items()"
     ],
     "language": "python",
     "metadata": {},
     "outputs": [
      {
       "metadata": {},
       "output_type": "pyout",
       "prompt_number": 19,
       "text": [
        "[('uzbekistan',\n",
        "  {'GDP per cap': '$4,038',\n",
        "   'capital': 'Tashkent',\n",
        "   'majority language': 'uzbek',\n",
        "   'population': 30185000}),\n",
        " ('poland',\n",
        "  {'GDP per cap': '$21,118',\n",
        "   'capital': 'Warsaw',\n",
        "   'majority language': 'polish',\n",
        "   'population': 38485779}),\n",
        " ('tanzania',\n",
        "  {'GDP per cap': '$1,813',\n",
        "   'capital': 'Dar es Salaam',\n",
        "   'majority language': 'swahili',\n",
        "   'population': 47400000}),\n",
        " ('usa',\n",
        "  {'GDP per cap': '$53,001',\n",
        "   'capital': 'Washington, D.C.',\n",
        "   'majority language': 'english',\n",
        "   'population': 318968000})]"
       ]
      }
     ],
     "prompt_number": 19
    },
    {
     "cell_type": "markdown",
     "metadata": {},
     "source": [
      "This creates an identical dictionary as the one we created before incrementally.\n",
      "\n",
      "Now, we might like to view just the keys from our outer dictionary, to see which countries we have data for."
     ]
    },
    {
     "cell_type": "code",
     "collapsed": false,
     "input": [
      "for key in countries:\n",
      "    print key\n",
      "    \n",
      "## is equivalent to \n",
      "#for key in countries.keys():\n",
      "#    print key"
     ],
     "language": "python",
     "metadata": {},
     "outputs": [
      {
       "output_type": "stream",
       "stream": "stdout",
       "text": [
        "uzbekistan\n",
        "poland\n",
        "tanzania\n",
        "usa\n"
       ]
      }
     ],
     "prompt_number": 20
    },
    {
     "cell_type": "markdown",
     "metadata": {},
     "source": [
      "We can print out just the values of the outer dictionary as well."
     ]
    },
    {
     "cell_type": "code",
     "collapsed": false,
     "input": [
      "for values in countries.values():\n",
      "    print values"
     ],
     "language": "python",
     "metadata": {},
     "outputs": [
      {
       "output_type": "stream",
       "stream": "stdout",
       "text": [
        "{'GDP per cap': '$4,038', 'capital': 'Tashkent', 'majority language': 'uzbek', 'population': 30185000}\n",
        "{'GDP per cap': '$21,118', 'capital': 'Warsaw', 'majority language': 'polish', 'population': 38485779}\n",
        "{'GDP per cap': '$1,813', 'capital': 'Dar es Salaam', 'majority language': 'swahili', 'population': 47400000}\n",
        "{'GDP per cap': '$53,001', 'capital': 'Washington, D.C.', 'majority language': 'english', 'population': 318968000}\n"
       ]
      }
     ],
     "prompt_number": 21
    },
    {
     "cell_type": "markdown",
     "metadata": {},
     "source": [
      "You can access both keys and dictionaries with `iteritems`"
     ]
    },
    {
     "cell_type": "code",
     "collapsed": false,
     "input": [
      "for k, v in countries.iteritems():\n",
      "    print k, v"
     ],
     "language": "python",
     "metadata": {},
     "outputs": [
      {
       "output_type": "stream",
       "stream": "stdout",
       "text": [
        "uzbekistan {'GDP per cap': '$4,038', 'capital': 'Tashkent', 'majority language': 'uzbek', 'population': 30185000}\n",
        "poland {'GDP per cap': '$21,118', 'capital': 'Warsaw', 'majority language': 'polish', 'population': 38485779}\n",
        "tanzania {'GDP per cap': '$1,813', 'capital': 'Dar es Salaam', 'majority language': 'swahili', 'population': 47400000}\n",
        "usa {'GDP per cap': '$53,001', 'capital': 'Washington, D.C.', 'majority language': 'english', 'population': 318968000}\n"
       ]
      }
     ],
     "prompt_number": 22
    },
    {
     "cell_type": "markdown",
     "metadata": {},
     "source": [
      "To access an inner `dictionary`, we have to specify which key in the outer dictionary we want to use."
     ]
    },
    {
     "cell_type": "code",
     "collapsed": false,
     "input": [
      "countries['usa']"
     ],
     "language": "python",
     "metadata": {},
     "outputs": [
      {
       "metadata": {},
       "output_type": "pyout",
       "prompt_number": 23,
       "text": [
        "{'GDP per cap': '$53,001',\n",
        " 'capital': 'Washington, D.C.',\n",
        " 'majority language': 'english',\n",
        " 'population': 318968000}"
       ]
      }
     ],
     "prompt_number": 23
    },
    {
     "cell_type": "markdown",
     "metadata": {},
     "source": [
      "We can then select keys, values, or both from this inner `dictionary` just as we did with the outer one."
     ]
    },
    {
     "cell_type": "code",
     "collapsed": false,
     "input": [
      "countries['usa'].keys()"
     ],
     "language": "python",
     "metadata": {},
     "outputs": [
      {
       "metadata": {},
       "output_type": "pyout",
       "prompt_number": 24,
       "text": [
        "['GDP per cap', 'capital', 'majority language', 'population']"
       ]
      }
     ],
     "prompt_number": 24
    },
    {
     "cell_type": "code",
     "collapsed": false,
     "input": [
      "countries['usa'].values()"
     ],
     "language": "python",
     "metadata": {},
     "outputs": [
      {
       "metadata": {},
       "output_type": "pyout",
       "prompt_number": 25,
       "text": [
        "['$53,001', 'Washington, D.C.', 'english', 318968000]"
       ]
      }
     ],
     "prompt_number": 25
    },
    {
     "cell_type": "code",
     "collapsed": false,
     "input": [
      "countries['usa'].items()\n"
     ],
     "language": "python",
     "metadata": {},
     "outputs": [
      {
       "metadata": {},
       "output_type": "pyout",
       "prompt_number": 26,
       "text": [
        "[('GDP per cap', '$53,001'),\n",
        " ('capital', 'Washington, D.C.'),\n",
        " ('majority language', 'english'),\n",
        " ('population', 318968000)]"
       ]
      }
     ],
     "prompt_number": 26
    },
    {
     "cell_type": "markdown",
     "metadata": {},
     "source": [
      "Note that `items` returns a list of the key value pairs as tuples, while `iteritems` returns an *iterator* that returns each tuple as you loop over it, just like the trigrams function in `nltk`. "
     ]
    },
    {
     "cell_type": "markdown",
     "metadata": {},
     "source": [
      "I can grab a specific value by indexing the appropriate keys."
     ]
    },
    {
     "cell_type": "code",
     "collapsed": false,
     "input": [
      "countries['usa']['population']"
     ],
     "language": "python",
     "metadata": {},
     "outputs": [
      {
       "metadata": {},
       "output_type": "pyout",
       "prompt_number": 27,
       "text": [
        "318968000"
       ]
      }
     ],
     "prompt_number": 27
    },
    {
     "cell_type": "markdown",
     "metadata": {},
     "source": [
      "I can iterate over the keys in the outer `dictionary` to pull out selected elements from the inner `dictionaries`."
     ]
    },
    {
     "cell_type": "code",
     "collapsed": false,
     "input": [
      "for i in countries:\n",
      "    print i, countries[i][\"GDP per cap\"]"
     ],
     "language": "python",
     "metadata": {},
     "outputs": [
      {
       "output_type": "stream",
       "stream": "stdout",
       "text": [
        "uzbekistan $4,038\n",
        "poland $21,118\n",
        "tanzania $1,813\n",
        "usa $53,001\n"
       ]
      }
     ],
     "prompt_number": 28
    },
    {
     "cell_type": "markdown",
     "metadata": {},
     "source": [
      "`Dicts` are mutable, so I can add elements to every inner dictionary by looping over the keys of the outer one."
     ]
    },
    {
     "cell_type": "code",
     "collapsed": false,
     "input": [
      "count = 1\n",
      "for i in countries:\n",
      "    countries[i][\"hi\"] = \"hello\" + str(count)\n",
      "    count += 1\n",
      "    \n",
      "for i in countries:\n",
      "    print i, countries[i][\"hi\"]"
     ],
     "language": "python",
     "metadata": {},
     "outputs": [
      {
       "output_type": "stream",
       "stream": "stdout",
       "text": [
        "uzbekistan hello1\n",
        "poland hello2\n",
        "tanzania hello3\n",
        "usa hello4\n"
       ]
      }
     ],
     "prompt_number": 29
    },
    {
     "cell_type": "markdown",
     "metadata": {},
     "source": [
      "The most natural way to store hierarichal data like this in JSON. Writing nested dictionaries to JSON in python is very, very easy. Reading in JSON files is equally easy with `json.load`. This data is automatically stored as a nested dictionary, so it's a good thing you know all about how to deal with those now!"
     ]
    },
    {
     "cell_type": "code",
     "collapsed": false,
     "input": [
      "import json\n",
      "\n",
      "with open(\"countries.js\", \"w\") as j:\n",
      "    json.dump(countries, j)"
     ],
     "language": "python",
     "metadata": {},
     "outputs": [],
     "prompt_number": 30
    },
    {
     "cell_type": "markdown",
     "metadata": {},
     "source": [
      "For many reasons, I might prefer to use CSV. There's a handy package for writing `dicts` to csv, but it is tricky to get it to write the outer dictionary keys, so I'm first going to add another key to each of the inner dictionaries that duplicates the outer key information."
     ]
    },
    {
     "cell_type": "code",
     "collapsed": false,
     "input": [
      "for i in countries:\n",
      "    countries[i][\"name\"] = i  "
     ],
     "language": "python",
     "metadata": {},
     "outputs": [],
     "prompt_number": 31
    },
    {
     "cell_type": "markdown",
     "metadata": {},
     "source": [
      " Now I'll write it to csv using the `DictWriter` class from the `csv` module. First I'll get a list of the keys of one of the inner dictionaries to use as column headers, which goes into the `DictWriter` as the `fieldnames` argument."
     ]
    },
    {
     "cell_type": "code",
     "collapsed": false,
     "input": [
      "import csv\n",
      "colnames = countries[\"usa\"].keys()\n",
      "\n",
      "with open(\"countries.csv\", \"w\") as c:\n",
      "    writer = csv.DictWriter(c, delimiter=\",\", fieldnames=colnames)\n",
      "    writer.writeheader()\n",
      "    for s in countries.keys():\n",
      "        writer.writerow(countries[s])\n"
     ],
     "language": "python",
     "metadata": {},
     "outputs": [],
     "prompt_number": 32
    }
   ],
   "metadata": {}
  }
 ]
}