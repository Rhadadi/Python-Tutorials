{
 "metadata": {
  "name": "",
  "signature": "sha256:af37ffac9b0caec8d5c492d18c81c15b2dc7f91a5fd63050f9d90da80ef715e5"
 },
 "nbformat": 3,
 "nbformat_minor": 0,
 "worksheets": [
  {
   "cells": [
    {
     "cell_type": "markdown",
     "metadata": {},
     "source": [
      "# Data Structures\n",
      "\n",
      "PS 452: Text as Data\n",
      "\n",
      "Fall 2014\n",
      "\n",
      "Department of Political Science, Stanford University\n",
      "\n",
      "Created by **Frances Zlotnick**\n",
      "\n",
      "Please contact me at zlotnick@stanford.edu with questions or comments."
     ]
    },
    {
     "cell_type": "markdown",
     "metadata": {},
     "source": [
      "This tutorial provides a brief introduction to the basic python collection data structures, including:\n",
      "\n",
      "- lists \n",
      "- tuples\n",
      "- dicts\n",
      "- sets\n",
      "\n",
      "\n",
      "Many tasks can be accomplished in several different ways, but selecting appropriate data structures can make a huge difference in the efficiency and speed of your code, and cut down on unnecessary work. You should choose the structure that is optimized for the particular task you need it to do. Some things to think about:\n",
      "\n",
      "- What is the primary purpose of this collection? Does it simply need to store items, or does it need to be searchable?\n",
      "\n",
      "- Will you need to modify the collection as you work with it, or will it remain static?\n",
      "\n",
      "- Do you need to preserve the ordering of the elements?\n",
      "\n",
      "- How big is your data? Many of the differences between these structures are trivial with small ammounts of data, but become important as your data grows.\n",
      "\n",
      "Some general tips:\n",
      "\n",
      "1. Searching is always more efficient with hashed objects. Searching a hashed object will always be faster than looping over an unhashed `list`.\n",
      "\n",
      "2. Take advantage of python's native hierarchical data structures. `Dicts` are extraordinarily efficient and useful (when appropriate) and it is well worth the effort to learn how to use them.\n",
      "\n",
      "3. Don't underestimate the difference that efficient code can make. Inefficient code on big data will eat up all of your RAM and cause your code to crash. "
     ]
    },
    {
     "cell_type": "markdown",
     "metadata": {},
     "source": [
      "##Lists"
     ]
    },
    {
     "cell_type": "markdown",
     "metadata": {},
     "source": [
      "The workhorse data structure in python is the `list`. `List`s are instantiated using square brackets, with elements separated by commas."
     ]
    },
    {
     "cell_type": "code",
     "collapsed": false,
     "input": [
      "mylist = [\"This\", \"is\", \"a\", \"list\", \"of\", \"strings.\"]"
     ],
     "language": "python",
     "metadata": {},
     "outputs": [],
     "prompt_number": 1
    },
    {
     "cell_type": "markdown",
     "metadata": {},
     "source": [
      "Unlike `vectors` in `R`, python `lists` can contain heterogenous data types. "
     ]
    },
    {
     "cell_type": "code",
     "collapsed": false,
     "input": [
      "myHeterogenousList = [\"string\", 15, \"another string\", 2.0]"
     ],
     "language": "python",
     "metadata": {},
     "outputs": [],
     "prompt_number": 2
    },
    {
     "cell_type": "markdown",
     "metadata": {},
     "source": [
      "`Lists` are nestable, and a list can contain any type of collection as an element, and you can easily iterate over list elements."
     ]
    },
    {
     "cell_type": "code",
     "collapsed": false,
     "input": [
      "#we'll discuss these other data structures a bit later\n",
      "nestedList = [\"apple\", 2.0, [1,2,3], {'dictionaryKey': 'dictionaryValue'}, set(['setElement']) ]"
     ],
     "language": "python",
     "metadata": {},
     "outputs": [],
     "prompt_number": 3
    },
    {
     "cell_type": "code",
     "collapsed": false,
     "input": [
      "for element in nestedList:\n",
      "    print type(element)"
     ],
     "language": "python",
     "metadata": {},
     "outputs": [
      {
       "output_type": "stream",
       "stream": "stdout",
       "text": [
        "<type 'str'>\n",
        "<type 'float'>\n",
        "<type 'list'>\n",
        "<type 'dict'>\n",
        "<type 'set'>\n"
       ]
      }
     ],
     "prompt_number": 4
    },
    {
     "cell_type": "markdown",
     "metadata": {},
     "source": [
      "You may come across example of list comprehension, which is a handy syntax for creating a list from another list. It is basically a one line `for` loop. For our purposes, there is no reason to use this syntax instead of a for loop unless you care about saving a little bit of typing. If you find it confusing, just use a for loop. There are analagous methods for `sets` and `dicts` as well."
     ]
    },
    {
     "cell_type": "code",
     "collapsed": false,
     "input": [
      "veggies = [\"carrot\", \"potato\",\"spinach\", \"turnip\"]\n",
      "VEGGIES = [x.upper() for x in veggies]\n",
      "print VEGGIES"
     ],
     "language": "python",
     "metadata": {},
     "outputs": [
      {
       "output_type": "stream",
       "stream": "stdout",
       "text": [
        "['CARROT', 'POTATO', 'SPINACH', 'TURNIP']\n"
       ]
      }
     ],
     "prompt_number": 5
    },
    {
     "cell_type": "markdown",
     "metadata": {},
     "source": [
      "`Lists` are ordered, which means they are indexible. You can locate a particular object using the `index` method."
     ]
    },
    {
     "cell_type": "code",
     "collapsed": false,
     "input": [
      "print veggies[1:3]\n",
      "veggies.index(\"spinach\")"
     ],
     "language": "python",
     "metadata": {},
     "outputs": [
      {
       "output_type": "stream",
       "stream": "stdout",
       "text": [
        "['potato', 'spinach']\n"
       ]
      },
      {
       "metadata": {},
       "output_type": "pyout",
       "prompt_number": 6,
       "text": [
        "2"
       ]
      }
     ],
     "prompt_number": 6
    },
    {
     "cell_type": "markdown",
     "metadata": {},
     "source": [
      "`Lists` are mutable, which means they can be modified and those changes will persist without being explicitly saved. You can add to the end of a list using `append`, or at a specific index using `insert "
     ]
    },
    {
     "cell_type": "code",
     "collapsed": false,
     "input": [
      "veggies.append(\"zucchini\")\n",
      "print veggies\n"
     ],
     "language": "python",
     "metadata": {},
     "outputs": [
      {
       "output_type": "stream",
       "stream": "stdout",
       "text": [
        "['carrot', 'potato', 'spinach', 'turnip', 'zucchini']\n"
       ]
      }
     ],
     "prompt_number": 7
    },
    {
     "cell_type": "code",
     "collapsed": false,
     "input": [
      "veggies.insert(3, \"kale\")\n",
      "print veggies"
     ],
     "language": "python",
     "metadata": {},
     "outputs": [
      {
       "output_type": "stream",
       "stream": "stdout",
       "text": [
        "['carrot', 'potato', 'spinach', 'kale', 'turnip', 'zucchini']\n"
       ]
      }
     ],
     "prompt_number": 8
    },
    {
     "cell_type": "markdown",
     "metadata": {},
     "source": [
      "You can `reverse` a `list` or `sort` it."
     ]
    },
    {
     "cell_type": "code",
     "collapsed": false,
     "input": [
      "veggies.reverse()\n",
      "print veggies"
     ],
     "language": "python",
     "metadata": {},
     "outputs": [
      {
       "output_type": "stream",
       "stream": "stdout",
       "text": [
        "['zucchini', 'turnip', 'kale', 'spinach', 'potato', 'carrot']\n"
       ]
      }
     ],
     "prompt_number": 9
    },
    {
     "cell_type": "code",
     "collapsed": false,
     "input": [
      "veggies.sort()\n",
      "print veggies"
     ],
     "language": "python",
     "metadata": {},
     "outputs": [
      {
       "output_type": "stream",
       "stream": "stdout",
       "text": [
        "['carrot', 'kale', 'potato', 'spinach', 'turnip', 'zucchini']\n"
       ]
      }
     ],
     "prompt_number": 10
    },
    {
     "cell_type": "markdown",
     "metadata": {},
     "source": [
      "`remove` will delete a particular item from a list."
     ]
    },
    {
     "cell_type": "code",
     "collapsed": false,
     "input": [
      "veggies.remove(\"turnip\")\n",
      "print veggies"
     ],
     "language": "python",
     "metadata": {},
     "outputs": [
      {
       "output_type": "stream",
       "stream": "stdout",
       "text": [
        "['carrot', 'kale', 'potato', 'spinach', 'zucchini']\n"
       ]
      }
     ],
     "prompt_number": 11
    },
    {
     "cell_type": "markdown",
     "metadata": {},
     "source": [
      "`pop` will remove the last item from the list and return it."
     ]
    },
    {
     "cell_type": "code",
     "collapsed": false,
     "input": [
      "a = veggies.pop()\n",
      "print a\n",
      "print veggies"
     ],
     "language": "python",
     "metadata": {},
     "outputs": [
      {
       "output_type": "stream",
       "stream": "stdout",
       "text": [
        "zucchini\n",
        "['carrot', 'kale', 'potato', 'spinach']\n"
       ]
      }
     ],
     "prompt_number": 12
    },
    {
     "cell_type": "markdown",
     "metadata": {},
     "source": [
      "You can count the number of times a particular object appears in a list with `count`."
     ]
    },
    {
     "cell_type": "code",
     "collapsed": false,
     "input": [
      "veggies.append(\"potato\")\n",
      "veggies.count(\"potato\")\n"
     ],
     "language": "python",
     "metadata": {},
     "outputs": [
      {
       "metadata": {},
       "output_type": "pyout",
       "prompt_number": 13,
       "text": [
        "2"
       ]
      }
     ],
     "prompt_number": 13
    },
    {
     "cell_type": "markdown",
     "metadata": {},
     "source": [
      "You can find the smallest element with `min`, the largest with `max`, and the total number of items with `len`. For string variables, the min and max correspond to their alphabetical order."
     ]
    },
    {
     "cell_type": "code",
     "collapsed": false,
     "input": [
      "print min(veggies)\n",
      "print max(veggies)\n",
      "print len(veggies)"
     ],
     "language": "python",
     "metadata": {},
     "outputs": [
      {
       "output_type": "stream",
       "stream": "stdout",
       "text": [
        "carrot\n",
        "spinach\n",
        "5\n"
       ]
      }
     ],
     "prompt_number": 14
    },
    {
     "cell_type": "markdown",
     "metadata": {},
     "source": [
      "##Tuples"
     ]
    },
    {
     "cell_type": "markdown",
     "metadata": {},
     "source": [
      "`Tuples` are variant on `lists`; the main difference is that they are immutable. If you have no need to change a `list`, or if you'd like to to use a `list` but can't because your purpose requires an immutable object (for instance, as a dictionary key -- more on this below), use a `tuple`. "
     ]
    },
    {
     "cell_type": "code",
     "collapsed": false,
     "input": [
      "myTuple = (1, 2, 3, 4, 5)\n",
      "myTuple.append(6)"
     ],
     "language": "python",
     "metadata": {},
     "outputs": [
      {
       "ename": "AttributeError",
       "evalue": "'tuple' object has no attribute 'append'",
       "output_type": "pyerr",
       "traceback": [
        "\u001b[0;31m---------------------------------------------------------------------------\u001b[0m\n\u001b[0;31mAttributeError\u001b[0m                            Traceback (most recent call last)",
        "\u001b[0;32m<ipython-input-15-8f1c3896710e>\u001b[0m in \u001b[0;36m<module>\u001b[0;34m()\u001b[0m\n\u001b[1;32m      1\u001b[0m \u001b[0mmyTuple\u001b[0m \u001b[0;34m=\u001b[0m \u001b[0;34m(\u001b[0m\u001b[0;36m1\u001b[0m\u001b[0;34m,\u001b[0m \u001b[0;36m2\u001b[0m\u001b[0;34m,\u001b[0m \u001b[0;36m3\u001b[0m\u001b[0;34m,\u001b[0m \u001b[0;36m4\u001b[0m\u001b[0;34m,\u001b[0m \u001b[0;36m5\u001b[0m\u001b[0;34m)\u001b[0m\u001b[0;34m\u001b[0m\u001b[0m\n\u001b[0;32m----> 2\u001b[0;31m \u001b[0mmyTuple\u001b[0m\u001b[0;34m.\u001b[0m\u001b[0mappend\u001b[0m\u001b[0;34m(\u001b[0m\u001b[0;36m6\u001b[0m\u001b[0;34m)\u001b[0m\u001b[0;34m\u001b[0m\u001b[0m\n\u001b[0m",
        "\u001b[0;31mAttributeError\u001b[0m: 'tuple' object has no attribute 'append'"
       ]
      }
     ],
     "prompt_number": 15
    },
    {
     "cell_type": "markdown",
     "metadata": {},
     "source": [
      "You can, however, search, index, and find attributes of `tuples` just as you would `lists`."
     ]
    },
    {
     "cell_type": "code",
     "collapsed": false,
     "input": [
      "myTuple[1:3]"
     ],
     "language": "python",
     "metadata": {},
     "outputs": [
      {
       "metadata": {},
       "output_type": "pyout",
       "prompt_number": 16,
       "text": [
        "(2, 3)"
       ]
      }
     ],
     "prompt_number": 16
    },
    {
     "cell_type": "code",
     "collapsed": false,
     "input": [
      "max(myTuple)"
     ],
     "language": "python",
     "metadata": {},
     "outputs": [
      {
       "metadata": {},
       "output_type": "pyout",
       "prompt_number": 17,
       "text": [
        "5"
       ]
      }
     ],
     "prompt_number": 17
    },
    {
     "cell_type": "code",
     "collapsed": false,
     "input": [
      "myTuple.index(3)"
     ],
     "language": "python",
     "metadata": {},
     "outputs": [
      {
       "metadata": {},
       "output_type": "pyout",
       "prompt_number": 18,
       "text": [
        "2"
       ]
      }
     ],
     "prompt_number": 18
    },
    {
     "cell_type": "markdown",
     "metadata": {},
     "source": [
      "##Dicts"
     ]
    },
    {
     "cell_type": "markdown",
     "metadata": {},
     "source": [
      "Dictionaries or `dicts` are hierarchical data structures that map items, consisting of keys and their corresponding values. Unlike `lists`, `dicts` are hashed, which means they are much faster and more efficient to search through. A `dict` is created with curly braces. There are a few ways of adding to a dictionary:"
     ]
    },
    {
     "cell_type": "code",
     "collapsed": false,
     "input": [
      "myDict = {\"peanut butter\": \"jelly\"}\n",
      "\n",
      "#is equivalent to \n",
      "myDict = {}\n",
      "myDict[\"peanut butter\"] = \"jelly\""
     ],
     "language": "python",
     "metadata": {},
     "outputs": [],
     "prompt_number": 19
    },
    {
     "cell_type": "markdown",
     "metadata": {},
     "source": [
      "While values can be any data type or structure, keys may only be immutable objects."
     ]
    },
    {
     "cell_type": "code",
     "collapsed": false,
     "input": [
      "nums = {[1,2] : \"one and two\"}\n",
      "nums"
     ],
     "language": "python",
     "metadata": {},
     "outputs": [
      {
       "ename": "TypeError",
       "evalue": "unhashable type: 'list'",
       "output_type": "pyerr",
       "traceback": [
        "\u001b[0;31m---------------------------------------------------------------------------\u001b[0m\n\u001b[0;31mTypeError\u001b[0m                                 Traceback (most recent call last)",
        "\u001b[0;32m<ipython-input-20-f85625347d97>\u001b[0m in \u001b[0;36m<module>\u001b[0;34m()\u001b[0m\n\u001b[0;32m----> 1\u001b[0;31m \u001b[0mnums\u001b[0m \u001b[0;34m=\u001b[0m \u001b[0;34m{\u001b[0m\u001b[0;34m[\u001b[0m\u001b[0;36m1\u001b[0m\u001b[0;34m,\u001b[0m\u001b[0;36m2\u001b[0m\u001b[0;34m]\u001b[0m \u001b[0;34m:\u001b[0m \u001b[0;34m\"one and two\"\u001b[0m\u001b[0;34m}\u001b[0m\u001b[0;34m\u001b[0m\u001b[0m\n\u001b[0m\u001b[1;32m      2\u001b[0m \u001b[0mnums\u001b[0m\u001b[0;34m\u001b[0m\u001b[0m\n",
        "\u001b[0;31mTypeError\u001b[0m: unhashable type: 'list'"
       ]
      }
     ],
     "prompt_number": 20
    },
    {
     "cell_type": "markdown",
     "metadata": {},
     "source": [
      "The principle function of `dicts` is to facilitate quick searching of associated values. If, say, I had a `dict` of phone numbers like the following:"
     ]
    },
    {
     "cell_type": "code",
     "collapsed": false,
     "input": [
      "phoneNumbers = { 'joe' : 123456, 'mary': 5436789, 'phil': 2463579}"
     ],
     "language": "python",
     "metadata": {},
     "outputs": [],
     "prompt_number": 21
    },
    {
     "cell_type": "markdown",
     "metadata": {},
     "source": [
      "I can find Joe's number by looking up the value associated with his name. As your data gets larger, this becomes much, much faster than looping over a list and checking whether each item is what you are looking for."
     ]
    },
    {
     "cell_type": "code",
     "collapsed": false,
     "input": [
      "phoneNumbers['joe']\n",
      "\n",
      "#is equivalent to\n",
      "phoneNumbers.get(\"joe\")"
     ],
     "language": "python",
     "metadata": {},
     "outputs": [
      {
       "metadata": {},
       "output_type": "pyout",
       "prompt_number": 22,
       "text": [
        "123456"
       ]
      }
     ],
     "prompt_number": 22
    },
    {
     "cell_type": "markdown",
     "metadata": {},
     "source": [
      "You can see all of the key value pairs in your `dict` with `items`."
     ]
    },
    {
     "cell_type": "code",
     "collapsed": false,
     "input": [
      "phoneNumbers.items()"
     ],
     "language": "python",
     "metadata": {},
     "outputs": [
      {
       "metadata": {},
       "output_type": "pyout",
       "prompt_number": 23,
       "text": [
        "[('phil', 2463579), ('joe', 123456), ('mary', 5436789)]"
       ]
      }
     ],
     "prompt_number": 23
    },
    {
     "cell_type": "markdown",
     "metadata": {},
     "source": [
      "`keys` and `values` return all of the keys contained in your dictionary and all of the values, respectively"
     ]
    },
    {
     "cell_type": "code",
     "collapsed": false,
     "input": [
      "phoneNumbers.keys()"
     ],
     "language": "python",
     "metadata": {},
     "outputs": [
      {
       "metadata": {},
       "output_type": "pyout",
       "prompt_number": 24,
       "text": [
        "['phil', 'joe', 'mary']"
       ]
      }
     ],
     "prompt_number": 24
    },
    {
     "cell_type": "code",
     "collapsed": false,
     "input": [
      "phoneNumbers.values()"
     ],
     "language": "python",
     "metadata": {},
     "outputs": [
      {
       "metadata": {},
       "output_type": "pyout",
       "prompt_number": 25,
       "text": [
        "[2463579, 123456, 5436789]"
       ]
      }
     ],
     "prompt_number": 25
    },
    {
     "cell_type": "markdown",
     "metadata": {},
     "source": [
      "You can check whether a key already exists in your dictionary with `has_key`. Note that keys must be unique, but values need not be."
     ]
    },
    {
     "cell_type": "code",
     "collapsed": false,
     "input": [
      "phoneNumbers.has_key(\"louise\")"
     ],
     "language": "python",
     "metadata": {},
     "outputs": [
      {
       "metadata": {},
       "output_type": "pyout",
       "prompt_number": 26,
       "text": [
        "False"
       ]
      }
     ],
     "prompt_number": 26
    },
    {
     "cell_type": "markdown",
     "metadata": {},
     "source": [
      "`Dicts` can be nested, which means that they can contain other `dicts` as values."
     ]
    },
    {
     "cell_type": "code",
     "collapsed": false,
     "input": [
      "phoneNumbers[\"bill\"] = {}"
     ],
     "language": "python",
     "metadata": {},
     "outputs": [],
     "prompt_number": 27
    },
    {
     "cell_type": "code",
     "collapsed": false,
     "input": [
      "phoneNumbers[\"bill\"][\"home\"] = 1234567\n",
      "phoneNumbers[\"bill\"][\"cell\"] = 9876543\n",
      "phoneNumbers"
     ],
     "language": "python",
     "metadata": {},
     "outputs": [
      {
       "metadata": {},
       "output_type": "pyout",
       "prompt_number": 28,
       "text": [
        "{'bill': {'cell': 9876543, 'home': 1234567},\n",
        " 'joe': 123456,\n",
        " 'mary': 5436789,\n",
        " 'phil': 2463579}"
       ]
      }
     ],
     "prompt_number": 28
    },
    {
     "cell_type": "markdown",
     "metadata": {},
     "source": [
      "`Dicts` are unordered, which means they cannot be indexed. It does not make sense to ask for the \"first\" or \"last\" item in a dictionary because there is no inherent ordering to them. "
     ]
    },
    {
     "cell_type": "code",
     "collapsed": false,
     "input": [
      "phoneNumbers[2]"
     ],
     "language": "python",
     "metadata": {},
     "outputs": [
      {
       "ename": "KeyError",
       "evalue": "2",
       "output_type": "pyerr",
       "traceback": [
        "\u001b[0;31m---------------------------------------------------------------------------\u001b[0m\n\u001b[0;31mKeyError\u001b[0m                                  Traceback (most recent call last)",
        "\u001b[0;32m<ipython-input-29-c9841e947201>\u001b[0m in \u001b[0;36m<module>\u001b[0;34m()\u001b[0m\n\u001b[0;32m----> 1\u001b[0;31m \u001b[0mphoneNumbers\u001b[0m\u001b[0;34m[\u001b[0m\u001b[0;36m2\u001b[0m\u001b[0;34m]\u001b[0m\u001b[0;34m\u001b[0m\u001b[0m\n\u001b[0m",
        "\u001b[0;31mKeyError\u001b[0m: 2"
       ]
      }
     ],
     "prompt_number": 29
    },
    {
     "cell_type": "markdown",
     "metadata": {},
     "source": [
      "You can iterate over dictionaries using `iteritems`, but since they are unordered, the order they will follow is not defined, and not reliable."
     ]
    },
    {
     "cell_type": "code",
     "collapsed": false,
     "input": [
      "for a in phoneNumbers.iteritems():\n",
      "    print a"
     ],
     "language": "python",
     "metadata": {},
     "outputs": [
      {
       "output_type": "stream",
       "stream": "stdout",
       "text": [
        "('phil', 2463579)\n",
        "('joe', 123456)\n",
        "('bill', {'cell': 9876543, 'home': 1234567})\n",
        "('mary', 5436789)\n"
       ]
      }
     ],
     "prompt_number": 30
    },
    {
     "cell_type": "markdown",
     "metadata": {},
     "source": [
      "##Sets"
     ]
    },
    {
     "cell_type": "markdown",
     "metadata": {},
     "source": [
      "Sets are unordered, hashed collections with no duplicate elements. This makes them extremely efficient for situations when you simply want to test whether a certain object exists in your data or not."
     ]
    },
    {
     "cell_type": "code",
     "collapsed": false,
     "input": [
      "mySet = set()\n",
      "mySet.add(\"hello\")\n",
      "mySet.add(\"hi\")\n",
      "mySet.add(\"hey\")\n",
      "print mySet\n"
     ],
     "language": "python",
     "metadata": {},
     "outputs": [
      {
       "output_type": "stream",
       "stream": "stdout",
       "text": [
        "set(['hi', 'hello', 'hey'])\n"
       ]
      }
     ],
     "prompt_number": 31
    },
    {
     "cell_type": "code",
     "collapsed": false,
     "input": [
      "print \"hi\" in mySet\n",
      "print \"yo\" not in mySet"
     ],
     "language": "python",
     "metadata": {},
     "outputs": [
      {
       "output_type": "stream",
       "stream": "stdout",
       "text": [
        "True\n",
        "True\n"
       ]
      }
     ],
     "prompt_number": 32
    },
    {
     "cell_type": "markdown",
     "metadata": {},
     "source": [
      "Adding to a set an item that already exists in it will not do anything."
     ]
    },
    {
     "cell_type": "code",
     "collapsed": false,
     "input": [
      "mySet.add(\"hello\")\n",
      "print mySet"
     ],
     "language": "python",
     "metadata": {},
     "outputs": [
      {
       "output_type": "stream",
       "stream": "stdout",
       "text": [
        "set(['hi', 'hello', 'hey'])\n"
       ]
      }
     ],
     "prompt_number": 33
    },
    {
     "cell_type": "markdown",
     "metadata": {},
     "source": [
      "Keep in mind that trying to `remove` an element that does not exist in a `set` will throw an error, so if you are unsure if an item is in a set, either check first, or use `discard`."
     ]
    },
    {
     "cell_type": "code",
     "collapsed": false,
     "input": [
      "mySet.remove(\"yo\")"
     ],
     "language": "python",
     "metadata": {},
     "outputs": [
      {
       "ename": "KeyError",
       "evalue": "'yo'",
       "output_type": "pyerr",
       "traceback": [
        "\u001b[0;31m---------------------------------------------------------------------------\u001b[0m\n\u001b[0;31mKeyError\u001b[0m                                  Traceback (most recent call last)",
        "\u001b[0;32m<ipython-input-34-37a72fc7381d>\u001b[0m in \u001b[0;36m<module>\u001b[0;34m()\u001b[0m\n\u001b[0;32m----> 1\u001b[0;31m \u001b[0mmySet\u001b[0m\u001b[0;34m.\u001b[0m\u001b[0mremove\u001b[0m\u001b[0;34m(\u001b[0m\u001b[0;34m\"yo\"\u001b[0m\u001b[0;34m)\u001b[0m\u001b[0;34m\u001b[0m\u001b[0m\n\u001b[0m",
        "\u001b[0;31mKeyError\u001b[0m: 'yo'"
       ]
      }
     ],
     "prompt_number": 34
    },
    {
     "cell_type": "code",
     "collapsed": false,
     "input": [
      "mySet.discard(\"yo\")"
     ],
     "language": "python",
     "metadata": {},
     "outputs": [],
     "prompt_number": 35
    },
    {
     "cell_type": "markdown",
     "metadata": {},
     "source": [
      "There are a number of useful `set` operations. "
     ]
    },
    {
     "cell_type": "code",
     "collapsed": false,
     "input": [
      "set1 = set([1,2,3])\n",
      "set2 = set([3,4,5])\n"
     ],
     "language": "python",
     "metadata": {},
     "outputs": [],
     "prompt_number": 36
    },
    {
     "cell_type": "markdown",
     "metadata": {},
     "source": [
      "`difference` or `-` will return a `set` of the elements in the first `set` and not in the second `set`. "
     ]
    },
    {
     "cell_type": "code",
     "collapsed": false,
     "input": [
      "set1 - set2\n",
      "\n",
      "#is equivalent to\n",
      "set1.difference(set2)"
     ],
     "language": "python",
     "metadata": {},
     "outputs": [
      {
       "metadata": {},
       "output_type": "pyout",
       "prompt_number": 37,
       "text": [
        "{1, 2}"
       ]
      }
     ],
     "prompt_number": 37
    },
    {
     "cell_type": "markdown",
     "metadata": {},
     "source": [
      "`union` or `|` will return a `set` of the elements in either `set`."
     ]
    },
    {
     "cell_type": "code",
     "collapsed": false,
     "input": [
      "set1 | set2\n",
      "\n",
      "#is equivalent to \n",
      "set1.union(set2)"
     ],
     "language": "python",
     "metadata": {},
     "outputs": [
      {
       "metadata": {},
       "output_type": "pyout",
       "prompt_number": 38,
       "text": [
        "{1, 2, 3, 4, 5}"
       ]
      }
     ],
     "prompt_number": 38
    },
    {
     "cell_type": "markdown",
     "metadata": {},
     "source": [
      "`intersection` or  `&` will return a `set` of the elements in both `sets`"
     ]
    },
    {
     "cell_type": "code",
     "collapsed": false,
     "input": [
      "set1 & set2\n",
      "\n",
      "#is equivalent to\n",
      "set1.intersection(set2)"
     ],
     "language": "python",
     "metadata": {},
     "outputs": [
      {
       "metadata": {},
       "output_type": "pyout",
       "prompt_number": 39,
       "text": [
        "{3}"
       ]
      }
     ],
     "prompt_number": 39
    },
    {
     "cell_type": "markdown",
     "metadata": {},
     "source": [
      "`symmetric_difference` or `^` will return a `set of the elements in one set or the other but not both."
     ]
    },
    {
     "cell_type": "code",
     "collapsed": false,
     "input": [
      "set1 ^ set2\n",
      "\n",
      "#is equivalent to\n",
      "set1.symmetric_difference(set2)"
     ],
     "language": "python",
     "metadata": {},
     "outputs": [
      {
       "metadata": {},
       "output_type": "pyout",
       "prompt_number": 40,
       "text": [
        "{1, 2, 4, 5}"
       ]
      }
     ],
     "prompt_number": 40
    },
    {
     "cell_type": "markdown",
     "metadata": {},
     "source": [
      "As with `dicts` you can iterate over a `set`, but the order may be unpredictable because it is an inherently unordered structure."
     ]
    },
    {
     "cell_type": "code",
     "collapsed": false,
     "input": [
      "for a in mySet:\n",
      "    print a"
     ],
     "language": "python",
     "metadata": {},
     "outputs": [
      {
       "output_type": "stream",
       "stream": "stdout",
       "text": [
        "hi\n",
        "hello\n",
        "hey\n"
       ]
      }
     ],
     "prompt_number": 41
    },
    {
     "cell_type": "markdown",
     "metadata": {},
     "source": [
      "##Summary\n",
      "\n",
      "###Lists\n",
      "\n",
      "- Ordered\n",
      "- Nestable\n",
      "- Mutable\n",
      "\n",
      "###Tuples\n",
      "\n",
      "- Ordered\n",
      "- Nestable\n",
      "- Immutable\n",
      "\n",
      "###Dicts\n",
      "\n",
      "- Unordered\n",
      "- Nestable\n",
      "- Mutable\n",
      "- Key-value pairs\n",
      "- Keys must be immutable\n",
      "- Hashed\n",
      "\n",
      "### Sets\n",
      "\n",
      "- Unordered\n",
      "- Mutable\n",
      "- Hashed\n"
     ]
    }
   ],
   "metadata": {}
  }
 ]
}