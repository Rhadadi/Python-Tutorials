{
 "metadata": {
  "name": "",
  "signature": "sha256:a02b4418fbaf283db6eb142420fd36d7dd6296b4f6407e521d3fd704881e7bec"
 },
 "nbformat": 3,
 "nbformat_minor": 0,
 "worksheets": [
  {
   "cells": [
    {
     "cell_type": "markdown",
     "metadata": {},
     "source": [
      "# File I/O\n",
      "\n",
      "PS 452: Text as Data\n",
      "\n",
      "Fall 2014\n",
      "\n",
      "Department of Political Science, Stanford University\n",
      "\n",
      "Created by **Frances Zlotnick**\n",
      "\n",
      "Please contact me at zlotnick@stanford.edu with questions or comments."
     ]
    },
    {
     "cell_type": "markdown",
     "metadata": {},
     "source": [
      "This brief tutorial will introduce you to reading and writing files in python. For now we will stick mainly to regular text (i.e. not CSVs).\n",
      "\n",
      "\n",
      "##Reading Text\n",
      "\n",
      "There are several functions available for reading text from a file. Which one you chose depends on the nature of the text, the size of the data and what you plan to do with it. A few things to think about before you start:\n",
      "\n",
      "- Are line breaks meaningful? Do you want to preserve the structure imposed by the line breaks in the data, or is that just noise?\n",
      "\n",
      "- How big is your data relative to your RAM? \n",
      "\n",
      "- What kind of operations do you intend to do on your text once you've read it in, and what is the most efficient way to store it based on the functions you will be using later?"
     ]
    },
    {
     "cell_type": "markdown",
     "metadata": {},
     "source": [
      "First we need to locate and open the file we want to read from. The `open` function takes two string arguments, the file name and a \"mode.\" The mode defines what you will be able to do to this file. Here we just want to read from it, so our mode is \"r\". You may see code useing \"rb\", which allows you to read binary data files; for the type of data we are working with, this is not important."
     ]
    },
    {
     "cell_type": "code",
     "collapsed": false,
     "input": [
      "import os\n",
      "#set working directory\n",
      "os.chdir(\"/Users/franceszlotnick/Dropbox/TextAsData/Sections/week1/\")\n",
      "\n",
      "f = open(\"textExample1.txt\", \"r\")"
     ],
     "language": "python",
     "metadata": {},
     "outputs": [],
     "prompt_number": 1
    },
    {
     "cell_type": "markdown",
     "metadata": {},
     "source": [
      "This opens up a stream for you to read from. The stream itself contains none of your data, you have to call another function to read from it."
     ]
    },
    {
     "cell_type": "code",
     "collapsed": false,
     "input": [
      "print f"
     ],
     "language": "python",
     "metadata": {},
     "outputs": [
      {
       "output_type": "stream",
       "stream": "stdout",
       "text": [
        "<open file 'textExample1.txt', mode 'r' at 0x103355540>\n"
       ]
      }
     ],
     "prompt_number": 2
    },
    {
     "cell_type": "markdown",
     "metadata": {},
     "source": [
      "###read"
     ]
    },
    {
     "cell_type": "markdown",
     "metadata": {},
     "source": [
      "The `read` function returns a single string, terminating at the last end of line (EOL) character."
     ]
    },
    {
     "cell_type": "code",
     "collapsed": false,
     "input": [
      "f.read()"
     ],
     "language": "python",
     "metadata": {},
     "outputs": [
      {
       "metadata": {},
       "output_type": "pyout",
       "prompt_number": 3,
       "text": [
        "'This file contains several lines.\\nThis is line 1!\\nThis is line 2.\\nThis is....wait for it....line 3.\\nLine 4!!!!!\\nOk this is the last line.'"
       ]
      }
     ],
     "prompt_number": 3
    },
    {
     "cell_type": "markdown",
     "metadata": {},
     "source": [
      "If you call this function again, you'll get an empty string. Why? Because you've already reached the end of file, and there's no more data to read. To reset the stream, you have to close it and reopen it."
     ]
    },
    {
     "cell_type": "code",
     "collapsed": false,
     "input": [
      "f.read()\n"
     ],
     "language": "python",
     "metadata": {},
     "outputs": [
      {
       "metadata": {},
       "output_type": "pyout",
       "prompt_number": 4,
       "text": [
        "''"
       ]
      }
     ],
     "prompt_number": 4
    },
    {
     "cell_type": "code",
     "collapsed": false,
     "input": [
      "f.close()\n",
      "\n",
      "f = open(\"textExample1.txt\", \"r\")\n",
      "f.read()"
     ],
     "language": "python",
     "metadata": {},
     "outputs": [
      {
       "metadata": {},
       "output_type": "pyout",
       "prompt_number": 5,
       "text": [
        "'This file contains several lines.\\nThis is line 1!\\nThis is line 2.\\nThis is....wait for it....line 3.\\nLine 4!!!!!\\nOk this is the last line.'"
       ]
      }
     ],
     "prompt_number": 5
    },
    {
     "cell_type": "code",
     "collapsed": false,
     "input": [
      "f.close()"
     ],
     "language": "python",
     "metadata": {},
     "outputs": [],
     "prompt_number": 6
    },
    {
     "cell_type": "markdown",
     "metadata": {},
     "source": [
      "You can also use python's `with` syntax to open the file, which will automatically close the file afterwards. But the text won't automatically print to the console this way, so if you want to see it, you'll have to save it as an object and then print the object."
     ]
    },
    {
     "cell_type": "code",
     "collapsed": false,
     "input": [
      "with open(\"textExample1.txt\", \"r\") as f:\n",
      "    lines = f.read()\n",
      "\n",
      "lines"
     ],
     "language": "python",
     "metadata": {},
     "outputs": [
      {
       "metadata": {},
       "output_type": "pyout",
       "prompt_number": 7,
       "text": [
        "'This file contains several lines.\\nThis is line 1!\\nThis is line 2.\\nThis is....wait for it....line 3.\\nLine 4!!!!!\\nOk this is the last line.'"
       ]
      }
     ],
     "prompt_number": 7
    },
    {
     "cell_type": "markdown",
     "metadata": {},
     "source": [
      "###readline"
     ]
    },
    {
     "cell_type": "markdown",
     "metadata": {},
     "source": [
      "The `readline` function will return as a string the contents of the file up to and including the first EOL character. "
     ]
    },
    {
     "cell_type": "code",
     "collapsed": false,
     "input": [
      "file = open(\"textExample1.txt\", \"r\")\n",
      "file.readline()"
     ],
     "language": "python",
     "metadata": {},
     "outputs": [
      {
       "metadata": {},
       "output_type": "pyout",
       "prompt_number": 8,
       "text": [
        "'This file contains several lines.\\n'"
       ]
      }
     ],
     "prompt_number": 8
    },
    {
     "cell_type": "markdown",
     "metadata": {},
     "source": [
      "To get the next line, you must call the function again. But you will lose the previous one, so make sure to save it as an object if you want to do something with it later. Once you get to the end of the document, this function will start returning empty strings."
     ]
    },
    {
     "cell_type": "code",
     "collapsed": false,
     "input": [
      "file.readline()"
     ],
     "language": "python",
     "metadata": {},
     "outputs": [
      {
       "metadata": {},
       "output_type": "pyout",
       "prompt_number": 9,
       "text": [
        "'This is line 1!\\n'"
       ]
      }
     ],
     "prompt_number": 9
    },
    {
     "cell_type": "code",
     "collapsed": false,
     "input": [
      "file.close()"
     ],
     "language": "python",
     "metadata": {},
     "outputs": [],
     "prompt_number": 10
    },
    {
     "cell_type": "markdown",
     "metadata": {},
     "source": [
      "### readlines"
     ]
    },
    {
     "cell_type": "markdown",
     "metadata": {},
     "source": [
      "The `readlines` function will read the entire document and store each line as an element in a single list object. "
     ]
    },
    {
     "cell_type": "code",
     "collapsed": false,
     "input": [
      "file = open(\"textExample1.txt\",\"r\")\n",
      "\n",
      "lines = file.readlines()\n",
      "lines"
     ],
     "language": "python",
     "metadata": {},
     "outputs": [
      {
       "metadata": {},
       "output_type": "pyout",
       "prompt_number": 11,
       "text": [
        "['This file contains several lines.\\n',\n",
        " 'This is line 1!\\n',\n",
        " 'This is line 2.\\n',\n",
        " 'This is....wait for it....line 3.\\n',\n",
        " 'Line 4!!!!!\\n',\n",
        " 'Ok this is the last line.']"
       ]
      }
     ],
     "prompt_number": 11
    },
    {
     "cell_type": "markdown",
     "metadata": {},
     "source": [
      "This is a really useful format if you don't have too much data and you want to be able to iterate over all of your lines."
     ]
    },
    {
     "cell_type": "markdown",
     "metadata": {},
     "source": [
      "## Writing files\n",
      "\n",
      "To write a file from python, we once again open a file, but we use use the \"w\" mode, for \"write.\" As with reading mode, you may come across code using mode \"wb\", which allows you to write binary files. This is not important for our purposes.\n",
      "\n",
      "The function you use to write to the file will depend on the structure of your data. "
     ]
    },
    {
     "cell_type": "code",
     "collapsed": false,
     "input": [
      "fileToWrite = open(\"newFile.txt\", \"w\")"
     ],
     "language": "python",
     "metadata": {},
     "outputs": [],
     "prompt_number": 12
    },
    {
     "cell_type": "markdown",
     "metadata": {},
     "source": [
      "### write\n",
      "\n",
      "We can use the write function to write strings (and only strings) to the file. Your data won't actually be written to the file until you close the stream, so don't forget that step."
     ]
    },
    {
     "cell_type": "code",
     "collapsed": false,
     "input": [
      "fileToWrite.write(\"Hello! Welcome to my new file.\")\n",
      "fileToWrite.close()"
     ],
     "language": "python",
     "metadata": {},
     "outputs": [],
     "prompt_number": 13
    },
    {
     "cell_type": "markdown",
     "metadata": {},
     "source": [
      "You can also use the with syntax if you don't want to worry about closing your file afterwards.\n",
      "\n",
      "If you try to write something other than a string using this function, it will throw an error."
     ]
    },
    {
     "cell_type": "code",
     "collapsed": false,
     "input": [
      "with open(\"newFile.txt\", \"w\") as fileToWrite:\n",
      "    fileToWrite.write(1)"
     ],
     "language": "python",
     "metadata": {},
     "outputs": [
      {
       "ename": "TypeError",
       "evalue": "expected a character buffer object",
       "output_type": "pyerr",
       "traceback": [
        "\u001b[0;31m---------------------------------------------------------------------------\u001b[0m\n\u001b[0;31mTypeError\u001b[0m                                 Traceback (most recent call last)",
        "\u001b[0;32m<ipython-input-14-46de1bcba692>\u001b[0m in \u001b[0;36m<module>\u001b[0;34m()\u001b[0m\n\u001b[1;32m      1\u001b[0m \u001b[0;32mwith\u001b[0m \u001b[0mopen\u001b[0m\u001b[0;34m(\u001b[0m\u001b[0;34m\"newFile.txt\"\u001b[0m\u001b[0;34m,\u001b[0m \u001b[0;34m\"w\"\u001b[0m\u001b[0;34m)\u001b[0m \u001b[0;32mas\u001b[0m \u001b[0mfileToWrite\u001b[0m\u001b[0;34m:\u001b[0m\u001b[0;34m\u001b[0m\u001b[0m\n\u001b[0;32m----> 2\u001b[0;31m     \u001b[0mfileToWrite\u001b[0m\u001b[0;34m.\u001b[0m\u001b[0mwrite\u001b[0m\u001b[0;34m(\u001b[0m\u001b[0;36m1\u001b[0m\u001b[0;34m)\u001b[0m\u001b[0;34m\u001b[0m\u001b[0m\n\u001b[0m",
        "\u001b[0;31mTypeError\u001b[0m: expected a character buffer object"
       ]
      }
     ],
     "prompt_number": 14
    },
    {
     "cell_type": "markdown",
     "metadata": {},
     "source": [
      "You can coerce other data types into strings either by surrounding them in quotation marks or wrapping them in str()."
     ]
    },
    {
     "cell_type": "code",
     "collapsed": false,
     "input": [
      "with open(\"newFile.txt\", \"w\") as fileToWrite:\n",
      "    fileToWrite.write(\"1\")\n",
      "    \n",
      "#is equivalent to    \n",
      "with open(\"newFile.txt\", \"w\") as fileToWrite:\n",
      "    fileToWrite.write(str(1))"
     ],
     "language": "python",
     "metadata": {},
     "outputs": [],
     "prompt_number": 15
    },
    {
     "cell_type": "markdown",
     "metadata": {},
     "source": [
      "Note that it is **extremely** easy to accidentally overwrite files and lose your data this way, so be careful when writing files. Change the mode argument \"a\" if you want to append to a file rather than replace it."
     ]
    },
    {
     "cell_type": "code",
     "collapsed": false,
     "input": [
      "with open(\"newFile.txt\", \"a\") as fileToWrite:\n",
      "    fileToWrite.write(\"This text will be appended.\")"
     ],
     "language": "python",
     "metadata": {},
     "outputs": [],
     "prompt_number": 16
    },
    {
     "cell_type": "markdown",
     "metadata": {},
     "source": [
      "### writelines\n",
      "\n",
      "The `writelines` function will accept lists as well as strings, but the elements of the list still need to be strings.  "
     ]
    },
    {
     "cell_type": "code",
     "collapsed": false,
     "input": [
      "l = [\"hi\", \"there\",\"this\", \"is\", \"a\",\"list\"]\n",
      "\n",
      "with open(\"newFile.txt\", \"a\") as fileToWrite:\n",
      "    fileToWrite.writelines(l)\n",
      "    \n",
      "#this will write \"hitherethisisalist\"    "
     ],
     "language": "python",
     "metadata": {},
     "outputs": [],
     "prompt_number": 17
    },
    {
     "cell_type": "markdown",
     "metadata": {},
     "source": [
      "Keep in mind that you may want to add in line breaks or spaces between your list elements; by default they will be concatenated. The join function concatenates the elements of a list with a specified separator and returns the resulting string. Note the weird syntax: **(arguments).function(object)** rathern than the more typical **object.function(arguments)**. "
     ]
    },
    {
     "cell_type": "code",
     "collapsed": false,
     "input": [
      "#to write with spaces between the words\n",
      "with open(\"newFile.txt\", \"a\") as fileToWrite:\n",
      "    fileToWrite.write((\"\").join(l)) \n",
      "\n",
      "#to write with line breaks between the words\n",
      "with open(\"newFile.txt\", \"a\") as fileToWrite:\n",
      "    fileToWrite.write((\"\\n\").join(l)) "
     ],
     "language": "python",
     "metadata": {},
     "outputs": [],
     "prompt_number": 18
    },
    {
     "cell_type": "markdown",
     "metadata": {},
     "source": [
      "You can even use this to method to write CSVs if you want, but there are packages that are better for this task."
     ]
    },
    {
     "cell_type": "code",
     "collapsed": false,
     "input": [
      "#to write a single line of a CSV\n",
      "with open(\"newFile.txt\", \"a\") as fileToWrite:\n",
      "    fileToWrite.write((\",\").join(l)) "
     ],
     "language": "python",
     "metadata": {},
     "outputs": [],
     "prompt_number": 19
    },
    {
     "cell_type": "markdown",
     "metadata": {},
     "source": [
      "# Summary\n",
      "\n",
      "## Reading from file\n",
      "- \"r\" mode\n",
      "- read vs readline vs readlines\n",
      "\n",
      "## Writing to file\n",
      "- \"w\" or \"a\" mode\n",
      "- write vs writeline"
     ]
    }
   ],
   "metadata": {}
  }
 ]
}